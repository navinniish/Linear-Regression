{
 "cells": [
  {
   "cell_type": "code",
   "execution_count": 1,
   "metadata": {},
   "outputs": [],
   "source": [
    "#Loading the libraries\n",
    "import pandas as pd\n",
    "import numpy as np\n",
    "import seaborn as sns\n",
    "import matplotlib.pyplot as plt\n",
    "import scipy.stats as st\n",
    "import statsmodels.api as sm"
   ]
  },
  {
   "cell_type": "code",
   "execution_count": 2,
   "metadata": {},
   "outputs": [],
   "source": [
    "#Importing the dataset\n",
    "from sklearn.datasets import load_boston\n",
    "df = load_boston()\n",
    "df1 = pd.DataFrame(df.data, columns=df.feature_names)\n"
   ]
  },
  {
   "cell_type": "code",
   "execution_count": 3,
   "metadata": {},
   "outputs": [
    {
     "data": {
      "text/html": [
       "<div>\n",
       "<style scoped>\n",
       "    .dataframe tbody tr th:only-of-type {\n",
       "        vertical-align: middle;\n",
       "    }\n",
       "\n",
       "    .dataframe tbody tr th {\n",
       "        vertical-align: top;\n",
       "    }\n",
       "\n",
       "    .dataframe thead th {\n",
       "        text-align: right;\n",
       "    }\n",
       "</style>\n",
       "<table border=\"1\" class=\"dataframe\">\n",
       "  <thead>\n",
       "    <tr style=\"text-align: right;\">\n",
       "      <th></th>\n",
       "      <th>CRIM</th>\n",
       "      <th>ZN</th>\n",
       "      <th>INDUS</th>\n",
       "      <th>CHAS</th>\n",
       "      <th>NOX</th>\n",
       "      <th>RM</th>\n",
       "      <th>AGE</th>\n",
       "      <th>DIS</th>\n",
       "      <th>RAD</th>\n",
       "      <th>TAX</th>\n",
       "      <th>PTRATIO</th>\n",
       "      <th>B</th>\n",
       "      <th>LSTAT</th>\n",
       "    </tr>\n",
       "  </thead>\n",
       "  <tbody>\n",
       "    <tr>\n",
       "      <th>0</th>\n",
       "      <td>0.00632</td>\n",
       "      <td>18.0</td>\n",
       "      <td>2.31</td>\n",
       "      <td>0.0</td>\n",
       "      <td>0.538</td>\n",
       "      <td>6.575</td>\n",
       "      <td>65.2</td>\n",
       "      <td>4.0900</td>\n",
       "      <td>1.0</td>\n",
       "      <td>296.0</td>\n",
       "      <td>15.3</td>\n",
       "      <td>396.9</td>\n",
       "      <td>4.98</td>\n",
       "    </tr>\n",
       "    <tr>\n",
       "      <th>1</th>\n",
       "      <td>0.02731</td>\n",
       "      <td>0.0</td>\n",
       "      <td>7.07</td>\n",
       "      <td>0.0</td>\n",
       "      <td>0.469</td>\n",
       "      <td>6.421</td>\n",
       "      <td>78.9</td>\n",
       "      <td>4.9671</td>\n",
       "      <td>2.0</td>\n",
       "      <td>242.0</td>\n",
       "      <td>17.8</td>\n",
       "      <td>396.9</td>\n",
       "      <td>9.14</td>\n",
       "    </tr>\n",
       "  </tbody>\n",
       "</table>\n",
       "</div>"
      ],
      "text/plain": [
       "      CRIM    ZN  INDUS  CHAS    NOX     RM   AGE     DIS  RAD    TAX  \\\n",
       "0  0.00632  18.0   2.31   0.0  0.538  6.575  65.2  4.0900  1.0  296.0   \n",
       "1  0.02731   0.0   7.07   0.0  0.469  6.421  78.9  4.9671  2.0  242.0   \n",
       "\n",
       "   PTRATIO      B  LSTAT  \n",
       "0     15.3  396.9   4.98  \n",
       "1     17.8  396.9   9.14  "
      ]
     },
     "execution_count": 3,
     "metadata": {},
     "output_type": "execute_result"
    }
   ],
   "source": [
    "#Taking a glance at the dataset\n",
    "df1.head(2)"
   ]
  },
  {
   "cell_type": "code",
   "execution_count": 4,
   "metadata": {},
   "outputs": [],
   "source": [
    "df1['Target'] = df.target #Getting target data from boston package"
   ]
  },
  {
   "cell_type": "code",
   "execution_count": 5,
   "metadata": {},
   "outputs": [
    {
     "data": {
      "text/html": [
       "<div>\n",
       "<style scoped>\n",
       "    .dataframe tbody tr th:only-of-type {\n",
       "        vertical-align: middle;\n",
       "    }\n",
       "\n",
       "    .dataframe tbody tr th {\n",
       "        vertical-align: top;\n",
       "    }\n",
       "\n",
       "    .dataframe thead th {\n",
       "        text-align: right;\n",
       "    }\n",
       "</style>\n",
       "<table border=\"1\" class=\"dataframe\">\n",
       "  <thead>\n",
       "    <tr style=\"text-align: right;\">\n",
       "      <th></th>\n",
       "      <th>CRIM</th>\n",
       "      <th>ZN</th>\n",
       "      <th>INDUS</th>\n",
       "      <th>CHAS</th>\n",
       "      <th>NOX</th>\n",
       "      <th>RM</th>\n",
       "      <th>AGE</th>\n",
       "      <th>DIS</th>\n",
       "      <th>RAD</th>\n",
       "      <th>TAX</th>\n",
       "      <th>PTRATIO</th>\n",
       "      <th>B</th>\n",
       "      <th>LSTAT</th>\n",
       "      <th>Target</th>\n",
       "    </tr>\n",
       "  </thead>\n",
       "  <tbody>\n",
       "    <tr>\n",
       "      <th>0</th>\n",
       "      <td>0.00632</td>\n",
       "      <td>18.0</td>\n",
       "      <td>2.31</td>\n",
       "      <td>0.0</td>\n",
       "      <td>0.538</td>\n",
       "      <td>6.575</td>\n",
       "      <td>65.2</td>\n",
       "      <td>4.0900</td>\n",
       "      <td>1.0</td>\n",
       "      <td>296.0</td>\n",
       "      <td>15.3</td>\n",
       "      <td>396.9</td>\n",
       "      <td>4.98</td>\n",
       "      <td>24.0</td>\n",
       "    </tr>\n",
       "    <tr>\n",
       "      <th>1</th>\n",
       "      <td>0.02731</td>\n",
       "      <td>0.0</td>\n",
       "      <td>7.07</td>\n",
       "      <td>0.0</td>\n",
       "      <td>0.469</td>\n",
       "      <td>6.421</td>\n",
       "      <td>78.9</td>\n",
       "      <td>4.9671</td>\n",
       "      <td>2.0</td>\n",
       "      <td>242.0</td>\n",
       "      <td>17.8</td>\n",
       "      <td>396.9</td>\n",
       "      <td>9.14</td>\n",
       "      <td>21.6</td>\n",
       "    </tr>\n",
       "  </tbody>\n",
       "</table>\n",
       "</div>"
      ],
      "text/plain": [
       "      CRIM    ZN  INDUS  CHAS    NOX     RM   AGE     DIS  RAD    TAX  \\\n",
       "0  0.00632  18.0   2.31   0.0  0.538  6.575  65.2  4.0900  1.0  296.0   \n",
       "1  0.02731   0.0   7.07   0.0  0.469  6.421  78.9  4.9671  2.0  242.0   \n",
       "\n",
       "   PTRATIO      B  LSTAT  Target  \n",
       "0     15.3  396.9   4.98    24.0  \n",
       "1     17.8  396.9   9.14    21.6  "
      ]
     },
     "execution_count": 5,
     "metadata": {},
     "output_type": "execute_result"
    }
   ],
   "source": [
    "df1.head(2)"
   ]
  },
  {
   "cell_type": "code",
   "execution_count": 6,
   "metadata": {},
   "outputs": [
    {
     "name": "stdout",
     "output_type": "stream",
     "text": [
      "<class 'pandas.core.frame.DataFrame'>\n",
      "RangeIndex: 506 entries, 0 to 505\n",
      "Data columns (total 14 columns):\n",
      " #   Column   Non-Null Count  Dtype  \n",
      "---  ------   --------------  -----  \n",
      " 0   CRIM     506 non-null    float64\n",
      " 1   ZN       506 non-null    float64\n",
      " 2   INDUS    506 non-null    float64\n",
      " 3   CHAS     506 non-null    float64\n",
      " 4   NOX      506 non-null    float64\n",
      " 5   RM       506 non-null    float64\n",
      " 6   AGE      506 non-null    float64\n",
      " 7   DIS      506 non-null    float64\n",
      " 8   RAD      506 non-null    float64\n",
      " 9   TAX      506 non-null    float64\n",
      " 10  PTRATIO  506 non-null    float64\n",
      " 11  B        506 non-null    float64\n",
      " 12  LSTAT    506 non-null    float64\n",
      " 13  Target   506 non-null    float64\n",
      "dtypes: float64(14)\n",
      "memory usage: 55.5 KB\n"
     ]
    }
   ],
   "source": [
    "df1.info()"
   ]
  },
  {
   "cell_type": "code",
   "execution_count": 7,
   "metadata": {},
   "outputs": [],
   "source": [
    "#Now looking at this we need to find which can be categorial"
   ]
  },
  {
   "cell_type": "code",
   "execution_count": 8,
   "metadata": {},
   "outputs": [
    {
     "data": {
      "text/plain": [
       "0.0    471\n",
       "1.0     35\n",
       "Name: CHAS, dtype: int64"
      ]
     },
     "execution_count": 8,
     "metadata": {},
     "output_type": "execute_result"
    }
   ],
   "source": [
    "df1['CHAS'].value_counts()"
   ]
  },
  {
   "cell_type": "code",
   "execution_count": 9,
   "metadata": {},
   "outputs": [
    {
     "data": {
      "text/plain": [
       "24.0    132\n",
       "5.0     115\n",
       "4.0     110\n",
       "3.0      38\n",
       "6.0      26\n",
       "8.0      24\n",
       "2.0      24\n",
       "1.0      20\n",
       "7.0      17\n",
       "Name: RAD, dtype: int64"
      ]
     },
     "execution_count": 9,
     "metadata": {},
     "output_type": "execute_result"
    }
   ],
   "source": [
    "df1['RAD'].value_counts()"
   ]
  },
  {
   "cell_type": "code",
   "execution_count": 10,
   "metadata": {},
   "outputs": [],
   "source": [
    "df1['CHAS'] = df1['CHAS'].astype('object')\n",
    "df1['RAD'] = df1['RAD'].astype('object')"
   ]
  },
  {
   "cell_type": "code",
   "execution_count": 11,
   "metadata": {},
   "outputs": [
    {
     "name": "stdout",
     "output_type": "stream",
     "text": [
      "<class 'pandas.core.frame.DataFrame'>\n",
      "RangeIndex: 506 entries, 0 to 505\n",
      "Data columns (total 14 columns):\n",
      " #   Column   Non-Null Count  Dtype  \n",
      "---  ------   --------------  -----  \n",
      " 0   CRIM     506 non-null    float64\n",
      " 1   ZN       506 non-null    float64\n",
      " 2   INDUS    506 non-null    float64\n",
      " 3   CHAS     506 non-null    object \n",
      " 4   NOX      506 non-null    float64\n",
      " 5   RM       506 non-null    float64\n",
      " 6   AGE      506 non-null    float64\n",
      " 7   DIS      506 non-null    float64\n",
      " 8   RAD      506 non-null    object \n",
      " 9   TAX      506 non-null    float64\n",
      " 10  PTRATIO  506 non-null    float64\n",
      " 11  B        506 non-null    float64\n",
      " 12  LSTAT    506 non-null    float64\n",
      " 13  Target   506 non-null    float64\n",
      "dtypes: float64(12), object(2)\n",
      "memory usage: 55.5+ KB\n"
     ]
    }
   ],
   "source": [
    "df1.info()"
   ]
  },
  {
   "cell_type": "code",
   "execution_count": 12,
   "metadata": {},
   "outputs": [],
   "source": [
    "#we have converted two columns into categorical"
   ]
  },
  {
   "cell_type": "code",
   "execution_count": 13,
   "metadata": {},
   "outputs": [
    {
     "data": {
      "text/html": [
       "<div>\n",
       "<style scoped>\n",
       "    .dataframe tbody tr th:only-of-type {\n",
       "        vertical-align: middle;\n",
       "    }\n",
       "\n",
       "    .dataframe tbody tr th {\n",
       "        vertical-align: top;\n",
       "    }\n",
       "\n",
       "    .dataframe thead th {\n",
       "        text-align: right;\n",
       "    }\n",
       "</style>\n",
       "<table border=\"1\" class=\"dataframe\">\n",
       "  <thead>\n",
       "    <tr style=\"text-align: right;\">\n",
       "      <th></th>\n",
       "      <th>count</th>\n",
       "      <th>mean</th>\n",
       "      <th>std</th>\n",
       "      <th>min</th>\n",
       "      <th>50%</th>\n",
       "      <th>max</th>\n",
       "    </tr>\n",
       "  </thead>\n",
       "  <tbody>\n",
       "    <tr>\n",
       "      <th>CRIM</th>\n",
       "      <td>506.0</td>\n",
       "      <td>3.61</td>\n",
       "      <td>8.60</td>\n",
       "      <td>0.01</td>\n",
       "      <td>0.26</td>\n",
       "      <td>88.98</td>\n",
       "    </tr>\n",
       "    <tr>\n",
       "      <th>ZN</th>\n",
       "      <td>506.0</td>\n",
       "      <td>11.36</td>\n",
       "      <td>23.32</td>\n",
       "      <td>0.00</td>\n",
       "      <td>0.00</td>\n",
       "      <td>100.00</td>\n",
       "    </tr>\n",
       "    <tr>\n",
       "      <th>INDUS</th>\n",
       "      <td>506.0</td>\n",
       "      <td>11.14</td>\n",
       "      <td>6.86</td>\n",
       "      <td>0.46</td>\n",
       "      <td>9.69</td>\n",
       "      <td>27.74</td>\n",
       "    </tr>\n",
       "    <tr>\n",
       "      <th>NOX</th>\n",
       "      <td>506.0</td>\n",
       "      <td>0.55</td>\n",
       "      <td>0.12</td>\n",
       "      <td>0.38</td>\n",
       "      <td>0.54</td>\n",
       "      <td>0.87</td>\n",
       "    </tr>\n",
       "    <tr>\n",
       "      <th>RM</th>\n",
       "      <td>506.0</td>\n",
       "      <td>6.28</td>\n",
       "      <td>0.70</td>\n",
       "      <td>3.56</td>\n",
       "      <td>6.21</td>\n",
       "      <td>8.78</td>\n",
       "    </tr>\n",
       "    <tr>\n",
       "      <th>AGE</th>\n",
       "      <td>506.0</td>\n",
       "      <td>68.57</td>\n",
       "      <td>28.15</td>\n",
       "      <td>2.90</td>\n",
       "      <td>77.50</td>\n",
       "      <td>100.00</td>\n",
       "    </tr>\n",
       "    <tr>\n",
       "      <th>DIS</th>\n",
       "      <td>506.0</td>\n",
       "      <td>3.80</td>\n",
       "      <td>2.11</td>\n",
       "      <td>1.13</td>\n",
       "      <td>3.21</td>\n",
       "      <td>12.13</td>\n",
       "    </tr>\n",
       "    <tr>\n",
       "      <th>TAX</th>\n",
       "      <td>506.0</td>\n",
       "      <td>408.24</td>\n",
       "      <td>168.54</td>\n",
       "      <td>187.00</td>\n",
       "      <td>330.00</td>\n",
       "      <td>711.00</td>\n",
       "    </tr>\n",
       "    <tr>\n",
       "      <th>PTRATIO</th>\n",
       "      <td>506.0</td>\n",
       "      <td>18.46</td>\n",
       "      <td>2.16</td>\n",
       "      <td>12.60</td>\n",
       "      <td>19.05</td>\n",
       "      <td>22.00</td>\n",
       "    </tr>\n",
       "    <tr>\n",
       "      <th>B</th>\n",
       "      <td>506.0</td>\n",
       "      <td>356.67</td>\n",
       "      <td>91.29</td>\n",
       "      <td>0.32</td>\n",
       "      <td>391.44</td>\n",
       "      <td>396.90</td>\n",
       "    </tr>\n",
       "    <tr>\n",
       "      <th>LSTAT</th>\n",
       "      <td>506.0</td>\n",
       "      <td>12.65</td>\n",
       "      <td>7.14</td>\n",
       "      <td>1.73</td>\n",
       "      <td>11.36</td>\n",
       "      <td>37.97</td>\n",
       "    </tr>\n",
       "    <tr>\n",
       "      <th>Target</th>\n",
       "      <td>506.0</td>\n",
       "      <td>22.53</td>\n",
       "      <td>9.20</td>\n",
       "      <td>5.00</td>\n",
       "      <td>21.20</td>\n",
       "      <td>50.00</td>\n",
       "    </tr>\n",
       "  </tbody>\n",
       "</table>\n",
       "</div>"
      ],
      "text/plain": [
       "         count    mean     std     min     50%     max\n",
       "CRIM     506.0    3.61    8.60    0.01    0.26   88.98\n",
       "ZN       506.0   11.36   23.32    0.00    0.00  100.00\n",
       "INDUS    506.0   11.14    6.86    0.46    9.69   27.74\n",
       "NOX      506.0    0.55    0.12    0.38    0.54    0.87\n",
       "RM       506.0    6.28    0.70    3.56    6.21    8.78\n",
       "AGE      506.0   68.57   28.15    2.90   77.50  100.00\n",
       "DIS      506.0    3.80    2.11    1.13    3.21   12.13\n",
       "TAX      506.0  408.24  168.54  187.00  330.00  711.00\n",
       "PTRATIO  506.0   18.46    2.16   12.60   19.05   22.00\n",
       "B        506.0  356.67   91.29    0.32  391.44  396.90\n",
       "LSTAT    506.0   12.65    7.14    1.73   11.36   37.97\n",
       "Target   506.0   22.53    9.20    5.00   21.20   50.00"
      ]
     },
     "execution_count": 13,
     "metadata": {},
     "output_type": "execute_result"
    }
   ],
   "source": [
    "df1.describe(percentiles=[0.50]).T.round(2)"
   ]
  },
  {
   "cell_type": "markdown",
   "metadata": {},
   "source": [
    "EDA"
   ]
  },
  {
   "cell_type": "code",
   "execution_count": 14,
   "metadata": {},
   "outputs": [
    {
     "data": {
      "text/html": [
       "<div>\n",
       "<style scoped>\n",
       "    .dataframe tbody tr th:only-of-type {\n",
       "        vertical-align: middle;\n",
       "    }\n",
       "\n",
       "    .dataframe tbody tr th {\n",
       "        vertical-align: top;\n",
       "    }\n",
       "\n",
       "    .dataframe thead th {\n",
       "        text-align: right;\n",
       "    }\n",
       "</style>\n",
       "<table border=\"1\" class=\"dataframe\">\n",
       "  <thead>\n",
       "    <tr style=\"text-align: right;\">\n",
       "      <th></th>\n",
       "      <th>CRIM</th>\n",
       "      <th>ZN</th>\n",
       "      <th>INDUS</th>\n",
       "      <th>CHAS</th>\n",
       "      <th>NOX</th>\n",
       "      <th>RM</th>\n",
       "      <th>AGE</th>\n",
       "      <th>DIS</th>\n",
       "      <th>RAD</th>\n",
       "      <th>TAX</th>\n",
       "      <th>PTRATIO</th>\n",
       "      <th>B</th>\n",
       "      <th>LSTAT</th>\n",
       "      <th>Target</th>\n",
       "    </tr>\n",
       "  </thead>\n",
       "  <tbody>\n",
       "    <tr>\n",
       "      <th>0</th>\n",
       "      <td>0.00632</td>\n",
       "      <td>18.0</td>\n",
       "      <td>2.31</td>\n",
       "      <td>0</td>\n",
       "      <td>0.538</td>\n",
       "      <td>6.575</td>\n",
       "      <td>65.2</td>\n",
       "      <td>4.0900</td>\n",
       "      <td>1</td>\n",
       "      <td>296.0</td>\n",
       "      <td>15.3</td>\n",
       "      <td>396.9</td>\n",
       "      <td>4.98</td>\n",
       "      <td>24.0</td>\n",
       "    </tr>\n",
       "    <tr>\n",
       "      <th>1</th>\n",
       "      <td>0.02731</td>\n",
       "      <td>0.0</td>\n",
       "      <td>7.07</td>\n",
       "      <td>0</td>\n",
       "      <td>0.469</td>\n",
       "      <td>6.421</td>\n",
       "      <td>78.9</td>\n",
       "      <td>4.9671</td>\n",
       "      <td>2</td>\n",
       "      <td>242.0</td>\n",
       "      <td>17.8</td>\n",
       "      <td>396.9</td>\n",
       "      <td>9.14</td>\n",
       "      <td>21.6</td>\n",
       "    </tr>\n",
       "  </tbody>\n",
       "</table>\n",
       "</div>"
      ],
      "text/plain": [
       "      CRIM    ZN  INDUS CHAS    NOX     RM   AGE     DIS RAD    TAX  PTRATIO  \\\n",
       "0  0.00632  18.0   2.31    0  0.538  6.575  65.2  4.0900   1  296.0     15.3   \n",
       "1  0.02731   0.0   7.07    0  0.469  6.421  78.9  4.9671   2  242.0     17.8   \n",
       "\n",
       "       B  LSTAT  Target  \n",
       "0  396.9   4.98    24.0  \n",
       "1  396.9   9.14    21.6  "
      ]
     },
     "execution_count": 14,
     "metadata": {},
     "output_type": "execute_result"
    }
   ],
   "source": [
    "df1.head(2)"
   ]
  },
  {
   "cell_type": "code",
   "execution_count": 15,
   "metadata": {},
   "outputs": [
    {
     "data": {
      "text/plain": [
       "0"
      ]
     },
     "execution_count": 15,
     "metadata": {},
     "output_type": "execute_result"
    }
   ],
   "source": [
    "#check for null values\n",
    "df1.isnull().sum().sum()"
   ]
  },
  {
   "cell_type": "code",
   "execution_count": 16,
   "metadata": {},
   "outputs": [
    {
     "data": {
      "image/png": "[encoded data removed]",
      "text/plain": [
       "<Figure size 432x288 with 1 Axes>"
      ]
     },
     "metadata": {
      "needs_background": "light"
     },
     "output_type": "display_data"
    },
    {
     "data": {
      "image/png": "[encoded data removed]",
      "text/plain": [
       "<Figure size 432x288 with 1 Axes>"
      ]
     },
     "metadata": {
      "needs_background": "light"
     },
     "output_type": "display_data"
    },
    {
     "data": {
      "image/png": "[encoded data removed]",
      "text/plain": [
       "<Figure size 432x288 with 1 Axes>"
      ]
     },
     "metadata": {
      "needs_background": "light"
     },
     "output_type": "display_data"
    },
    {
     "data": {
      "image/png": "[encoded data removed]",
      "text/plain": [
       "<Figure size 432x288 with 1 Axes>"
      ]
     },
     "metadata": {
      "needs_background": "light"
     },
     "output_type": "display_data"
    },
    {
     "data": {
      "image/png": "[encoded data removed]",
      "text/plain": [
       "<Figure size 432x288 with 1 Axes>"
      ]
     },
     "metadata": {
      "needs_background": "light"
     },
     "output_type": "display_data"
    },
    {
     "data": {
      "image/png": "[encoded data removed]",
      "text/plain": [
       "<Figure size 432x288 with 1 Axes>"
      ]
     },
     "metadata": {
      "needs_background": "light"
     },
     "output_type": "display_data"
    },
    {
     "data": {
      "image/png": "[encoded data removed]",
      "text/plain": [
       "<Figure size 432x288 with 1 Axes>"
      ]
     },
     "metadata": {
      "needs_background": "light"
     },
     "output_type": "display_data"
    },
    {
     "data": {
      "image/png": "[encoded data removed]",
      "text/plain": [
       "<Figure size 432x288 with 1 Axes>"
      ]
     },
     "metadata": {
      "needs_background": "light"
     },
     "output_type": "display_data"
    },
    {
     "data": {
      "image/png": "[encoded data removed]",
      "text/plain": [
       "<Figure size 432x288 with 1 Axes>"
      ]
     },
     "metadata": {
      "needs_background": "light"
     },
     "output_type": "display_data"
    },
    {
     "data": {
      "image/png": "[encoded data removed]",
      "text/plain": [
       "<Figure size 432x288 with 1 Axes>"
      ]
     },
     "metadata": {
      "needs_background": "light"
     },
     "output_type": "display_data"
    },
    {
     "data": {
      "image/png": "[encoded data removed]",
      "text/plain": [
       "<Figure size 432x288 with 1 Axes>"
      ]
     },
     "metadata": {
      "needs_background": "light"
     },
     "output_type": "display_data"
    },
    {
     "data": {
      "image/png": "[encoded data removed]",
      "text/plain": [
       "<Figure size 432x288 with 1 Axes>"
      ]
     },
     "metadata": {
      "needs_background": "light"
     },
     "output_type": "display_data"
    }
   ],
   "source": [
    "#check for outliers\n",
    "for i in df1.select_dtypes(include=np.number).columns:\n",
    "    sns.boxplot(df1[i])\n",
    "    plt.show()"
   ]
  },
  {
   "cell_type": "code",
   "execution_count": 17,
   "metadata": {},
   "outputs": [],
   "source": [
    "#we have loads of outliers in all the data so we have to remove the outliers :> \n",
    "#IQR or ZScore\n",
    "for i in df1.columns:\n",
    "    q1=df1[i].quantile(0.25)\n",
    "    q3=df1[i].quantile(0.75)\n",
    "    iqr=q3-q1\n",
    "    ub=q3 + 1.5*iqr\n",
    "    lb=q1 - 1.5*iqr\n",
    "    df1[i]=df1[i].apply(lambda x:df1[i].quantile(0.99) if x>ub else df1[i].quantile(0.01) if x<lb else x)"
   ]
  },
  {
   "cell_type": "code",
   "execution_count": 18,
   "metadata": {},
   "outputs": [
    {
     "data": {
      "image/png": "[encoded data removed]",
      "text/plain": [
       "<Figure size 432x288 with 1 Axes>"
      ]
     },
     "metadata": {
      "needs_background": "light"
     },
     "output_type": "display_data"
    },
    {
     "data": {
      "image/png": "[encoded data removed]",
      "text/plain": [
       "<Figure size 432x288 with 1 Axes>"
      ]
     },
     "metadata": {
      "needs_background": "light"
     },
     "output_type": "display_data"
    },
    {
     "data": {
      "image/png": "[encoded data removed]",
      "text/plain": [
       "<Figure size 432x288 with 1 Axes>"
      ]
     },
     "metadata": {
      "needs_background": "light"
     },
     "output_type": "display_data"
    },
    {
     "data": {
      "image/png": "[encoded data removed]",
      "text/plain": [
       "<Figure size 432x288 with 1 Axes>"
      ]
     },
     "metadata": {
      "needs_background": "light"
     },
     "output_type": "display_data"
    },
    {
     "data": {
      "image/png": "[encoded data removed]",
      "text/plain": [
       "<Figure size 432x288 with 1 Axes>"
      ]
     },
     "metadata": {
      "needs_background": "light"
     },
     "output_type": "display_data"
    },
    {
     "data": {
      "image/png": "[encoded data removed]",
      "text/plain": [
       "<Figure size 432x288 with 1 Axes>"
      ]
     },
     "metadata": {
      "needs_background": "light"
     },
     "output_type": "display_data"
    },
    {
     "data": {
      "image/png": "[encoded data removed]",
      "text/plain": [
       "<Figure size 432x288 with 1 Axes>"
      ]
     },
     "metadata": {
      "needs_background": "light"
     },
     "output_type": "display_data"
    },
    {
     "data": {
      "image/png": "[encoded data removed]",
      "text/plain": [
       "<Figure size 432x288 with 1 Axes>"
      ]
     },
     "metadata": {
      "needs_background": "light"
     },
     "output_type": "display_data"
    },
    {
     "data": {
      "image/png": "[encoded data removed]",
      "text/plain": [
       "<Figure size 432x288 with 1 Axes>"
      ]
     },
     "metadata": {
      "needs_background": "light"
     },
     "output_type": "display_data"
    },
    {
     "data": {
      "image/png": "[encoded data removed]",
      "text/plain": [
       "<Figure size 432x288 with 1 Axes>"
      ]
     },
     "metadata": {
      "needs_background": "light"
     },
     "output_type": "display_data"
    },
    {
     "data": {
      "image/png": "[encoded data removed]",
      "text/plain": [
       "<Figure size 432x288 with 1 Axes>"
      ]
     },
     "metadata": {
      "needs_background": "light"
     },
     "output_type": "display_data"
    },
    {
     "data": {
      "image/png": "[encoded data removed]",
      "text/plain": [
       "<Figure size 432x288 with 1 Axes>"
      ]
     },
     "metadata": {
      "needs_background": "light"
     },
     "output_type": "display_data"
    },
    {
     "data": {
      "image/png": "[encoded data removed]",
      "text/plain": [
       "<Figure size 432x288 with 1 Axes>"
      ]
     },
     "metadata": {
      "needs_background": "light"
     },
     "output_type": "display_data"
    },
    {
     "data": {
      "image/png": "[encoded data removed]",
      "text/plain": [
       "<Figure size 432x288 with 1 Axes>"
      ]
     },
     "metadata": {
      "needs_background": "light"
     },
     "output_type": "display_data"
    }
   ],
   "source": [
    "for i in df1.select_dtypes(include=np.number).columns:\n",
    "    sns.boxplot(df1[i])\n",
    "    plt.show()"
   ]
  },
  {
   "cell_type": "code",
   "execution_count": 19,
   "metadata": {},
   "outputs": [],
   "source": [
    "#Since we have some outliers, it's time for us to check how the columns fare with each other"
   ]
  },
  {
   "cell_type": "code",
   "execution_count": 20,
   "metadata": {},
   "outputs": [],
   "source": [
    "#sns.pairplot(df1.select_dtypes(include=np.number))"
   ]
  },
  {
   "cell_type": "code",
   "execution_count": 21,
   "metadata": {},
   "outputs": [
    {
     "data": {
      "text/plain": [
       "<matplotlib.axes._subplots.AxesSubplot at 0x1f06510ba00>"
      ]
     },
     "execution_count": 21,
     "metadata": {},
     "output_type": "execute_result"
    },
    {
     "data": {
      "image/png": "[encoded data removed]",
      "text/plain": [
       "<Figure size 864x504 with 2 Axes>"
      ]
     },
     "metadata": {
      "needs_background": "light"
     },
     "output_type": "display_data"
    }
   ],
   "source": [
    "corr = df1.corr()\n",
    "fig, ax = plt.subplots(figsize=(12,7))\n",
    "plt.title('Heatmap for Correlation')\n",
    "sns.heatmap(corr.round(1), cmap='YlGnBu', annot=True, linewidth=0.30, ax=ax)"
   ]
  },
  {
   "cell_type": "code",
   "execution_count": 22,
   "metadata": {},
   "outputs": [],
   "source": [
    "#RM has high positive correlation with target\n",
    "#Indus has highest negative correlation with target"
   ]
  },
  {
   "cell_type": "markdown",
   "metadata": {},
   "source": [
    "Model Building"
   ]
  },
  {
   "cell_type": "code",
   "execution_count": 23,
   "metadata": {},
   "outputs": [],
   "source": [
    "from sklearn.model_selection import train_test_split"
   ]
  },
  {
   "cell_type": "code",
   "execution_count": 24,
   "metadata": {},
   "outputs": [],
   "source": [
    "inp = df1.drop(['Target', \"CHAS\", \"RAD\"],1)\n",
    "out = df1[['Target']]"
   ]
  },
  {
   "cell_type": "code",
   "execution_count": 25,
   "metadata": {},
   "outputs": [
    {
     "name": "stdout",
     "output_type": "stream",
     "text": [
      "(354, 11)\n",
      "(354, 1)\n",
      "(152, 11)\n",
      "(152, 1)\n"
     ]
    }
   ],
   "source": [
    "xtrain,xtest,ytrain,ytest = train_test_split(inp,out, test_size=0.30, random_state=2)\n",
    "print(xtrain.shape)\n",
    "print(ytrain.shape)\n",
    "print(xtest.shape)\n",
    "print(ytest.shape)"
   ]
  },
  {
   "cell_type": "code",
   "execution_count": 26,
   "metadata": {},
   "outputs": [
    {
     "data": {
      "text/plain": [
       "(354, 12)"
      ]
     },
     "execution_count": 26,
     "metadata": {},
     "output_type": "execute_result"
    }
   ],
   "source": [
    "inpc = sm.add_constant(xtrain)\n",
    "inpc.shape"
   ]
  },
  {
   "cell_type": "code",
   "execution_count": 27,
   "metadata": {},
   "outputs": [
    {
     "data": {
      "text/html": [
       "<table class=\"simpletable\">\n",
       "<caption>OLS Regression Results</caption>\n",
       "<tr>\n",
       "  <th>Dep. Variable:</th>         <td>Target</td>      <th>  R-squared:         </th> <td>   0.718</td>\n",
       "</tr>\n",
       "<tr>\n",
       "  <th>Model:</th>                   <td>OLS</td>       <th>  Adj. R-squared:    </th> <td>   0.709</td>\n",
       "</tr>\n",
       "<tr>\n",
       "  <th>Method:</th>             <td>Least Squares</td>  <th>  F-statistic:       </th> <td>   79.03</td>\n",
       "</tr>\n",
       "<tr>\n",
       "  <th>Date:</th>             <td>Mon, 12 Oct 2020</td> <th>  Prob (F-statistic):</th> <td>6.28e-87</td>\n",
       "</tr>\n",
       "<tr>\n",
       "  <th>Time:</th>                 <td>22:28:46</td>     <th>  Log-Likelihood:    </th> <td> -1090.6</td>\n",
       "</tr>\n",
       "<tr>\n",
       "  <th>No. Observations:</th>      <td>   354</td>      <th>  AIC:               </th> <td>   2205.</td>\n",
       "</tr>\n",
       "<tr>\n",
       "  <th>Df Residuals:</th>          <td>   342</td>      <th>  BIC:               </th> <td>   2252.</td>\n",
       "</tr>\n",
       "<tr>\n",
       "  <th>Df Model:</th>              <td>    11</td>      <th>                     </th>     <td> </td>   \n",
       "</tr>\n",
       "<tr>\n",
       "  <th>Covariance Type:</th>      <td>nonrobust</td>    <th>                     </th>     <td> </td>   \n",
       "</tr>\n",
       "</table>\n",
       "<table class=\"simpletable\">\n",
       "<tr>\n",
       "     <td></td>        <th>coef</th>     <th>std err</th>      <th>t</th>      <th>P>|t|</th>  <th>[0.025</th>    <th>0.975]</th>  \n",
       "</tr>\n",
       "<tr>\n",
       "  <th>const</th>   <td>   26.5131</td> <td>    6.606</td> <td>    4.013</td> <td> 0.000</td> <td>   13.519</td> <td>   39.507</td>\n",
       "</tr>\n",
       "<tr>\n",
       "  <th>CRIM</th>    <td>   -0.0420</td> <td>    0.033</td> <td>   -1.289</td> <td> 0.198</td> <td>   -0.106</td> <td>    0.022</td>\n",
       "</tr>\n",
       "<tr>\n",
       "  <th>ZN</th>      <td>    0.0061</td> <td>    0.013</td> <td>    0.453</td> <td> 0.651</td> <td>   -0.020</td> <td>    0.033</td>\n",
       "</tr>\n",
       "<tr>\n",
       "  <th>INDUS</th>   <td>   -0.1011</td> <td>    0.078</td> <td>   -1.300</td> <td> 0.194</td> <td>   -0.254</td> <td>    0.052</td>\n",
       "</tr>\n",
       "<tr>\n",
       "  <th>NOX</th>     <td>  -14.0104</td> <td>    5.088</td> <td>   -2.754</td> <td> 0.006</td> <td>  -24.018</td> <td>   -4.002</td>\n",
       "</tr>\n",
       "<tr>\n",
       "  <th>RM</th>      <td>    5.1973</td> <td>    0.539</td> <td>    9.650</td> <td> 0.000</td> <td>    4.138</td> <td>    6.257</td>\n",
       "</tr>\n",
       "<tr>\n",
       "  <th>AGE</th>     <td>    0.0175</td> <td>    0.018</td> <td>    0.954</td> <td> 0.341</td> <td>   -0.019</td> <td>    0.054</td>\n",
       "</tr>\n",
       "<tr>\n",
       "  <th>DIS</th>     <td>   -1.3627</td> <td>    0.262</td> <td>   -5.210</td> <td> 0.000</td> <td>   -1.877</td> <td>   -0.848</td>\n",
       "</tr>\n",
       "<tr>\n",
       "  <th>TAX</th>     <td>    0.0028</td> <td>    0.003</td> <td>    0.870</td> <td> 0.385</td> <td>   -0.004</td> <td>    0.009</td>\n",
       "</tr>\n",
       "<tr>\n",
       "  <th>PTRATIO</th> <td>   -1.0749</td> <td>    0.178</td> <td>   -6.044</td> <td> 0.000</td> <td>   -1.425</td> <td>   -0.725</td>\n",
       "</tr>\n",
       "<tr>\n",
       "  <th>B</th>       <td>    0.0075</td> <td>    0.003</td> <td>    2.980</td> <td> 0.003</td> <td>    0.003</td> <td>    0.012</td>\n",
       "</tr>\n",
       "<tr>\n",
       "  <th>LSTAT</th>   <td>   -0.5657</td> <td>    0.076</td> <td>   -7.438</td> <td> 0.000</td> <td>   -0.715</td> <td>   -0.416</td>\n",
       "</tr>\n",
       "</table>\n",
       "<table class=\"simpletable\">\n",
       "<tr>\n",
       "  <th>Omnibus:</th>       <td>110.902</td> <th>  Durbin-Watson:     </th> <td>   1.971</td>\n",
       "</tr>\n",
       "<tr>\n",
       "  <th>Prob(Omnibus):</th> <td> 0.000</td>  <th>  Jarque-Bera (JB):  </th> <td> 398.233</td>\n",
       "</tr>\n",
       "<tr>\n",
       "  <th>Skew:</th>          <td> 1.355</td>  <th>  Prob(JB):          </th> <td>3.35e-87</td>\n",
       "</tr>\n",
       "<tr>\n",
       "  <th>Kurtosis:</th>      <td> 7.434</td>  <th>  Cond. No.          </th> <td>1.42e+04</td>\n",
       "</tr>\n",
       "</table><br/><br/>Warnings:<br/>[1] Standard Errors assume that the covariance matrix of the errors is correctly specified.<br/>[2] The condition number is large, 1.42e+04. This might indicate that there are<br/>strong multicollinearity or other numerical problems."
      ],
      "text/plain": [
       "<class 'statsmodels.iolib.summary.Summary'>\n",
       "\"\"\"\n",
       "                            OLS Regression Results                            \n",
       "==============================================================================\n",
       "Dep. Variable:                 Target   R-squared:                       0.718\n",
       "Model:                            OLS   Adj. R-squared:                  0.709\n",
       "Method:                 Least Squares   F-statistic:                     79.03\n",
       "Date:                Mon, 12 Oct 2020   Prob (F-statistic):           6.28e-87\n",
       "Time:                        22:28:46   Log-Likelihood:                -1090.6\n",
       "No. Observations:                 354   AIC:                             2205.\n",
       "Df Residuals:                     342   BIC:                             2252.\n",
       "Df Model:                          11                                         \n",
       "Covariance Type:            nonrobust                                         \n",
       "==============================================================================\n",
       "                 coef    std err          t      P>|t|      [0.025      0.975]\n",
       "------------------------------------------------------------------------------\n",
       "const         26.5131      6.606      4.013      0.000      13.519      39.507\n",
       "CRIM          -0.0420      0.033     -1.289      0.198      -0.106       0.022\n",
       "ZN             0.0061      0.013      0.453      0.651      -0.020       0.033\n",
       "INDUS         -0.1011      0.078     -1.300      0.194      -0.254       0.052\n",
       "NOX          -14.0104      5.088     -2.754      0.006     -24.018      -4.002\n",
       "RM             5.1973      0.539      9.650      0.000       4.138       6.257\n",
       "AGE            0.0175      0.018      0.954      0.341      -0.019       0.054\n",
       "DIS           -1.3627      0.262     -5.210      0.000      -1.877      -0.848\n",
       "TAX            0.0028      0.003      0.870      0.385      -0.004       0.009\n",
       "PTRATIO       -1.0749      0.178     -6.044      0.000      -1.425      -0.725\n",
       "B              0.0075      0.003      2.980      0.003       0.003       0.012\n",
       "LSTAT         -0.5657      0.076     -7.438      0.000      -0.715      -0.416\n",
       "==============================================================================\n",
       "Omnibus:                      110.902   Durbin-Watson:                   1.971\n",
       "Prob(Omnibus):                  0.000   Jarque-Bera (JB):              398.233\n",
       "Skew:                           1.355   Prob(JB):                     3.35e-87\n",
       "Kurtosis:                       7.434   Cond. No.                     1.42e+04\n",
       "==============================================================================\n",
       "\n",
       "Warnings:\n",
       "[1] Standard Errors assume that the covariance matrix of the errors is correctly specified.\n",
       "[2] The condition number is large, 1.42e+04. This might indicate that there are\n",
       "strong multicollinearity or other numerical problems.\n",
       "\"\"\""
      ]
     },
     "execution_count": 27,
     "metadata": {},
     "output_type": "execute_result"
    }
   ],
   "source": [
    "model = sm.OLS(ytrain,inpc)\n",
    "mod = model.fit()\n",
    "mod.summary()"
   ]
  },
  {
   "cell_type": "code",
   "execution_count": 28,
   "metadata": {},
   "outputs": [],
   "source": [
    "#We now do linear regression"
   ]
  },
  {
   "cell_type": "code",
   "execution_count": 29,
   "metadata": {},
   "outputs": [],
   "source": [
    "from sklearn.linear_model import LinearRegression"
   ]
  },
  {
   "cell_type": "code",
   "execution_count": 30,
   "metadata": {},
   "outputs": [
    {
     "data": {
      "text/plain": [
       "LinearRegression()"
      ]
     },
     "execution_count": 30,
     "metadata": {},
     "output_type": "execute_result"
    }
   ],
   "source": [
    "lr = LinearRegression()\n",
    "lr.fit(inpc,ytrain)"
   ]
  },
  {
   "cell_type": "code",
   "execution_count": 31,
   "metadata": {},
   "outputs": [
    {
     "data": {
      "text/plain": [
       "0.7176644422098314"
      ]
     },
     "execution_count": 31,
     "metadata": {},
     "output_type": "execute_result"
    }
   ],
   "source": [
    "lr.score(inpc,ytrain)"
   ]
  },
  {
   "cell_type": "code",
   "execution_count": 32,
   "metadata": {},
   "outputs": [],
   "source": [
    "#Our base model is not upto the mark so we are gonna fine tune it."
   ]
  },
  {
   "cell_type": "code",
   "execution_count": 33,
   "metadata": {},
   "outputs": [],
   "source": [
    "from sklearn.feature_selection import RFECV\n"
   ]
  },
  {
   "cell_type": "code",
   "execution_count": 34,
   "metadata": {},
   "outputs": [],
   "source": [
    "corr1 = set()\n",
    "corr_matrix = df1.drop('Target',1)"
   ]
  },
  {
   "cell_type": "code",
   "execution_count": 35,
   "metadata": {},
   "outputs": [],
   "source": [
    "for i in range(len(corr_matrix.columns)):\n",
    "    for j in range(i):\n",
    "        if abs(corr_matrix.iloc[i,j]) > 0.8:\n",
    "            col = corr_matrix.columns[i]\n",
    "            corr1.add(col)"
   ]
  },
  {
   "cell_type": "code",
   "execution_count": 36,
   "metadata": {},
   "outputs": [
    {
     "data": {
      "text/plain": [
       "{'AGE', 'B', 'CHAS', 'DIS', 'LSTAT', 'NOX', 'PTRATIO', 'RAD', 'RM', 'TAX'}"
      ]
     },
     "execution_count": 36,
     "metadata": {},
     "output_type": "execute_result"
    }
   ],
   "source": [
    "corr1"
   ]
  },
  {
   "cell_type": "code",
   "execution_count": 37,
   "metadata": {},
   "outputs": [],
   "source": [
    "x1 = df1.drop('Target', 1)\n",
    "y1 = df1['Target']\n",
    "rfc = RFECV(estimator = lr)"
   ]
  },
  {
   "cell_type": "code",
   "execution_count": 38,
   "metadata": {},
   "outputs": [],
   "source": [
    "rfe_mod = rfc.fit(x1,y1)"
   ]
  },
  {
   "cell_type": "code",
   "execution_count": 39,
   "metadata": {},
   "outputs": [
    {
     "data": {
      "text/plain": [
       "array([4, 5, 2, 1, 1, 1, 7, 1, 3, 6, 1, 8, 1])"
      ]
     },
     "execution_count": 39,
     "metadata": {},
     "output_type": "execute_result"
    }
   ],
   "source": [
    "rfe_mod.ranking_"
   ]
  },
  {
   "cell_type": "code",
   "execution_count": 40,
   "metadata": {},
   "outputs": [
    {
     "data": {
      "text/plain": [
       "14"
      ]
     },
     "execution_count": 40,
     "metadata": {},
     "output_type": "execute_result"
    }
   ],
   "source": [
    "len(df1.columns)"
   ]
  },
  {
   "cell_type": "code",
   "execution_count": 41,
   "metadata": {},
   "outputs": [
    {
     "data": {
      "text/html": [
       "<div>\n",
       "<style scoped>\n",
       "    .dataframe tbody tr th:only-of-type {\n",
       "        vertical-align: middle;\n",
       "    }\n",
       "\n",
       "    .dataframe tbody tr th {\n",
       "        vertical-align: top;\n",
       "    }\n",
       "\n",
       "    .dataframe thead th {\n",
       "        text-align: right;\n",
       "    }\n",
       "</style>\n",
       "<table border=\"1\" class=\"dataframe\">\n",
       "  <thead>\n",
       "    <tr style=\"text-align: right;\">\n",
       "      <th></th>\n",
       "      <th>Col_Names</th>\n",
       "      <th>Rank</th>\n",
       "    </tr>\n",
       "  </thead>\n",
       "  <tbody>\n",
       "    <tr>\n",
       "      <th>0</th>\n",
       "      <td>CRIM</td>\n",
       "      <td>4</td>\n",
       "    </tr>\n",
       "    <tr>\n",
       "      <th>1</th>\n",
       "      <td>ZN</td>\n",
       "      <td>5</td>\n",
       "    </tr>\n",
       "    <tr>\n",
       "      <th>2</th>\n",
       "      <td>INDUS</td>\n",
       "      <td>2</td>\n",
       "    </tr>\n",
       "    <tr>\n",
       "      <th>3</th>\n",
       "      <td>CHAS</td>\n",
       "      <td>1</td>\n",
       "    </tr>\n",
       "    <tr>\n",
       "      <th>4</th>\n",
       "      <td>NOX</td>\n",
       "      <td>1</td>\n",
       "    </tr>\n",
       "    <tr>\n",
       "      <th>5</th>\n",
       "      <td>RM</td>\n",
       "      <td>1</td>\n",
       "    </tr>\n",
       "    <tr>\n",
       "      <th>6</th>\n",
       "      <td>AGE</td>\n",
       "      <td>7</td>\n",
       "    </tr>\n",
       "    <tr>\n",
       "      <th>7</th>\n",
       "      <td>DIS</td>\n",
       "      <td>1</td>\n",
       "    </tr>\n",
       "    <tr>\n",
       "      <th>8</th>\n",
       "      <td>RAD</td>\n",
       "      <td>3</td>\n",
       "    </tr>\n",
       "    <tr>\n",
       "      <th>9</th>\n",
       "      <td>TAX</td>\n",
       "      <td>6</td>\n",
       "    </tr>\n",
       "    <tr>\n",
       "      <th>10</th>\n",
       "      <td>PTRATIO</td>\n",
       "      <td>1</td>\n",
       "    </tr>\n",
       "    <tr>\n",
       "      <th>11</th>\n",
       "      <td>B</td>\n",
       "      <td>8</td>\n",
       "    </tr>\n",
       "    <tr>\n",
       "      <th>12</th>\n",
       "      <td>LSTAT</td>\n",
       "      <td>1</td>\n",
       "    </tr>\n",
       "  </tbody>\n",
       "</table>\n",
       "</div>"
      ],
      "text/plain": [
       "   Col_Names  Rank\n",
       "0       CRIM     4\n",
       "1         ZN     5\n",
       "2      INDUS     2\n",
       "3       CHAS     1\n",
       "4        NOX     1\n",
       "5         RM     1\n",
       "6        AGE     7\n",
       "7        DIS     1\n",
       "8        RAD     3\n",
       "9        TAX     6\n",
       "10   PTRATIO     1\n",
       "11         B     8\n",
       "12     LSTAT     1"
      ]
     },
     "execution_count": 41,
     "metadata": {},
     "output_type": "execute_result"
    }
   ],
   "source": [
    "rank = pd.DataFrame()\n",
    "rank['Col_Names'] = x1.columns\n",
    "rank['Rank'] = rfe_mod.ranking_\n",
    "rank"
   ]
  },
  {
   "cell_type": "code",
   "execution_count": 42,
   "metadata": {},
   "outputs": [],
   "source": [
    "mask = rank['Rank']==1"
   ]
  },
  {
   "cell_type": "code",
   "execution_count": 43,
   "metadata": {},
   "outputs": [
    {
     "data": {
      "text/html": [
       "<div>\n",
       "<style scoped>\n",
       "    .dataframe tbody tr th:only-of-type {\n",
       "        vertical-align: middle;\n",
       "    }\n",
       "\n",
       "    .dataframe tbody tr th {\n",
       "        vertical-align: top;\n",
       "    }\n",
       "\n",
       "    .dataframe thead th {\n",
       "        text-align: right;\n",
       "    }\n",
       "</style>\n",
       "<table border=\"1\" class=\"dataframe\">\n",
       "  <thead>\n",
       "    <tr style=\"text-align: right;\">\n",
       "      <th></th>\n",
       "      <th>Col_Names</th>\n",
       "      <th>Rank</th>\n",
       "    </tr>\n",
       "  </thead>\n",
       "  <tbody>\n",
       "    <tr>\n",
       "      <th>3</th>\n",
       "      <td>CHAS</td>\n",
       "      <td>1</td>\n",
       "    </tr>\n",
       "    <tr>\n",
       "      <th>4</th>\n",
       "      <td>NOX</td>\n",
       "      <td>1</td>\n",
       "    </tr>\n",
       "    <tr>\n",
       "      <th>5</th>\n",
       "      <td>RM</td>\n",
       "      <td>1</td>\n",
       "    </tr>\n",
       "    <tr>\n",
       "      <th>7</th>\n",
       "      <td>DIS</td>\n",
       "      <td>1</td>\n",
       "    </tr>\n",
       "    <tr>\n",
       "      <th>10</th>\n",
       "      <td>PTRATIO</td>\n",
       "      <td>1</td>\n",
       "    </tr>\n",
       "    <tr>\n",
       "      <th>12</th>\n",
       "      <td>LSTAT</td>\n",
       "      <td>1</td>\n",
       "    </tr>\n",
       "  </tbody>\n",
       "</table>\n",
       "</div>"
      ],
      "text/plain": [
       "   Col_Names  Rank\n",
       "3       CHAS     1\n",
       "4        NOX     1\n",
       "5         RM     1\n",
       "7        DIS     1\n",
       "10   PTRATIO     1\n",
       "12     LSTAT     1"
      ]
     },
     "execution_count": 43,
     "metadata": {},
     "output_type": "execute_result"
    }
   ],
   "source": [
    "ranked = rank[(mask)]\n",
    "ranked"
   ]
  },
  {
   "cell_type": "code",
   "execution_count": 44,
   "metadata": {},
   "outputs": [],
   "source": [
    "c1 = df1[['NOX', 'RM', \"DIS\", \"PTRATIO\", \"LSTAT\"]]"
   ]
  },
  {
   "cell_type": "code",
   "execution_count": 45,
   "metadata": {},
   "outputs": [],
   "source": [
    "c2 = pd.get_dummies(df1['CHAS'])"
   ]
  },
  {
   "cell_type": "code",
   "execution_count": 46,
   "metadata": {},
   "outputs": [
    {
     "data": {
      "text/plain": [
       "0.0    471\n",
       "1.0     35\n",
       "Name: CHAS, dtype: int64"
      ]
     },
     "execution_count": 46,
     "metadata": {},
     "output_type": "execute_result"
    }
   ],
   "source": [
    "df1['CHAS'].value_counts()"
   ]
  },
  {
   "cell_type": "code",
   "execution_count": 47,
   "metadata": {},
   "outputs": [],
   "source": [
    "inp1 = pd.concat([c1,c2], 1)\n",
    "out1 = df1['Target']"
   ]
  },
  {
   "cell_type": "code",
   "execution_count": 48,
   "metadata": {},
   "outputs": [
    {
     "name": "stdout",
     "output_type": "stream",
     "text": [
      "(354, 7) (152, 7) (354,) (152,)\n"
     ]
    }
   ],
   "source": [
    "xtrain1, xtest1, ytrain1, ytest1 = train_test_split(inp1, out1, test_size = 0.3, random_state=10)\n",
    "print(xtrain1.shape, xtest1.shape, ytrain1.shape, ytest1.shape)"
   ]
  },
  {
   "cell_type": "code",
   "execution_count": 49,
   "metadata": {},
   "outputs": [
    {
     "data": {
      "text/plain": [
       "(354, 8)"
      ]
     },
     "execution_count": 49,
     "metadata": {},
     "output_type": "execute_result"
    }
   ],
   "source": [
    "inp_co = sm.add_constant(xtrain1)\n",
    "inp_co.shape"
   ]
  },
  {
   "cell_type": "code",
   "execution_count": 50,
   "metadata": {},
   "outputs": [
    {
     "data": {
      "text/html": [
       "<table class=\"simpletable\">\n",
       "<caption>OLS Regression Results</caption>\n",
       "<tr>\n",
       "  <th>Dep. Variable:</th>         <td>Target</td>      <th>  R-squared:         </th> <td>   0.715</td>\n",
       "</tr>\n",
       "<tr>\n",
       "  <th>Model:</th>                   <td>OLS</td>       <th>  Adj. R-squared:    </th> <td>   0.710</td>\n",
       "</tr>\n",
       "<tr>\n",
       "  <th>Method:</th>             <td>Least Squares</td>  <th>  F-statistic:       </th> <td>   144.9</td>\n",
       "</tr>\n",
       "<tr>\n",
       "  <th>Date:</th>             <td>Mon, 12 Oct 2020</td> <th>  Prob (F-statistic):</th> <td>2.36e-91</td>\n",
       "</tr>\n",
       "<tr>\n",
       "  <th>Time:</th>                 <td>22:28:46</td>     <th>  Log-Likelihood:    </th> <td> -1073.3</td>\n",
       "</tr>\n",
       "<tr>\n",
       "  <th>No. Observations:</th>      <td>   354</td>      <th>  AIC:               </th> <td>   2161.</td>\n",
       "</tr>\n",
       "<tr>\n",
       "  <th>Df Residuals:</th>          <td>   347</td>      <th>  BIC:               </th> <td>   2188.</td>\n",
       "</tr>\n",
       "<tr>\n",
       "  <th>Df Model:</th>              <td>     6</td>      <th>                     </th>     <td> </td>   \n",
       "</tr>\n",
       "<tr>\n",
       "  <th>Covariance Type:</th>      <td>nonrobust</td>    <th>                     </th>     <td> </td>   \n",
       "</tr>\n",
       "</table>\n",
       "<table class=\"simpletable\">\n",
       "<tr>\n",
       "     <td></td>        <th>coef</th>     <th>std err</th>      <th>t</th>      <th>P>|t|</th>  <th>[0.025</th>    <th>0.975]</th>  \n",
       "</tr>\n",
       "<tr>\n",
       "  <th>const</th>   <td>   22.1085</td> <td>    3.927</td> <td>    5.630</td> <td> 0.000</td> <td>   14.384</td> <td>   29.833</td>\n",
       "</tr>\n",
       "<tr>\n",
       "  <th>NOX</th>     <td>  -20.2034</td> <td>    4.082</td> <td>   -4.950</td> <td> 0.000</td> <td>  -28.232</td> <td>  -12.175</td>\n",
       "</tr>\n",
       "<tr>\n",
       "  <th>RM</th>      <td>    4.9546</td> <td>    0.509</td> <td>    9.738</td> <td> 0.000</td> <td>    3.954</td> <td>    5.955</td>\n",
       "</tr>\n",
       "<tr>\n",
       "  <th>DIS</th>     <td>   -1.2763</td> <td>    0.220</td> <td>   -5.809</td> <td> 0.000</td> <td>   -1.708</td> <td>   -0.844</td>\n",
       "</tr>\n",
       "<tr>\n",
       "  <th>PTRATIO</th> <td>   -0.9569</td> <td>    0.140</td> <td>   -6.814</td> <td> 0.000</td> <td>   -1.233</td> <td>   -0.681</td>\n",
       "</tr>\n",
       "<tr>\n",
       "  <th>LSTAT</th>   <td>   -0.5760</td> <td>    0.059</td> <td>   -9.810</td> <td> 0.000</td> <td>   -0.691</td> <td>   -0.460</td>\n",
       "</tr>\n",
       "<tr>\n",
       "  <th>0.0</th>     <td>   10.2494</td> <td>    1.992</td> <td>    5.145</td> <td> 0.000</td> <td>    6.332</td> <td>   14.167</td>\n",
       "</tr>\n",
       "<tr>\n",
       "  <th>1.0</th>     <td>   11.8591</td> <td>    2.110</td> <td>    5.620</td> <td> 0.000</td> <td>    7.709</td> <td>   16.009</td>\n",
       "</tr>\n",
       "</table>\n",
       "<table class=\"simpletable\">\n",
       "<tr>\n",
       "  <th>Omnibus:</th>       <td>123.674</td> <th>  Durbin-Watson:     </th> <td>   2.194</td> \n",
       "</tr>\n",
       "<tr>\n",
       "  <th>Prob(Omnibus):</th> <td> 0.000</td>  <th>  Jarque-Bera (JB):  </th> <td> 522.004</td> \n",
       "</tr>\n",
       "<tr>\n",
       "  <th>Skew:</th>          <td> 1.460</td>  <th>  Prob(JB):          </th> <td>4.45e-114</td>\n",
       "</tr>\n",
       "<tr>\n",
       "  <th>Kurtosis:</th>      <td> 8.183</td>  <th>  Cond. No.          </th> <td>1.14e+17</td> \n",
       "</tr>\n",
       "</table><br/><br/>Warnings:<br/>[1] Standard Errors assume that the covariance matrix of the errors is correctly specified.<br/>[2] The smallest eigenvalue is 1.61e-29. This might indicate that there are<br/>strong multicollinearity problems or that the design matrix is singular."
      ],
      "text/plain": [
       "<class 'statsmodels.iolib.summary.Summary'>\n",
       "\"\"\"\n",
       "                            OLS Regression Results                            \n",
       "==============================================================================\n",
       "Dep. Variable:                 Target   R-squared:                       0.715\n",
       "Model:                            OLS   Adj. R-squared:                  0.710\n",
       "Method:                 Least Squares   F-statistic:                     144.9\n",
       "Date:                Mon, 12 Oct 2020   Prob (F-statistic):           2.36e-91\n",
       "Time:                        22:28:46   Log-Likelihood:                -1073.3\n",
       "No. Observations:                 354   AIC:                             2161.\n",
       "Df Residuals:                     347   BIC:                             2188.\n",
       "Df Model:                           6                                         \n",
       "Covariance Type:            nonrobust                                         \n",
       "==============================================================================\n",
       "                 coef    std err          t      P>|t|      [0.025      0.975]\n",
       "------------------------------------------------------------------------------\n",
       "const         22.1085      3.927      5.630      0.000      14.384      29.833\n",
       "NOX          -20.2034      4.082     -4.950      0.000     -28.232     -12.175\n",
       "RM             4.9546      0.509      9.738      0.000       3.954       5.955\n",
       "DIS           -1.2763      0.220     -5.809      0.000      -1.708      -0.844\n",
       "PTRATIO       -0.9569      0.140     -6.814      0.000      -1.233      -0.681\n",
       "LSTAT         -0.5760      0.059     -9.810      0.000      -0.691      -0.460\n",
       "0.0           10.2494      1.992      5.145      0.000       6.332      14.167\n",
       "1.0           11.8591      2.110      5.620      0.000       7.709      16.009\n",
       "==============================================================================\n",
       "Omnibus:                      123.674   Durbin-Watson:                   2.194\n",
       "Prob(Omnibus):                  0.000   Jarque-Bera (JB):              522.004\n",
       "Skew:                           1.460   Prob(JB):                    4.45e-114\n",
       "Kurtosis:                       8.183   Cond. No.                     1.14e+17\n",
       "==============================================================================\n",
       "\n",
       "Warnings:\n",
       "[1] Standard Errors assume that the covariance matrix of the errors is correctly specified.\n",
       "[2] The smallest eigenvalue is 1.61e-29. This might indicate that there are\n",
       "strong multicollinearity problems or that the design matrix is singular.\n",
       "\"\"\""
      ]
     },
     "execution_count": 50,
     "metadata": {},
     "output_type": "execute_result"
    }
   ],
   "source": [
    "mod = sm.OLS(ytrain1, inp_co).fit()\n",
    "mod.summary()"
   ]
  },
  {
   "cell_type": "code",
   "execution_count": 51,
   "metadata": {},
   "outputs": [
    {
     "data": {
      "text/plain": [
       "0.7147633319111653"
      ]
     },
     "execution_count": 51,
     "metadata": {},
     "output_type": "execute_result"
    }
   ],
   "source": [
    "lr = LinearRegression()\n",
    "lr.fit(inp_co,ytrain1)\n",
    "lr.score(inp_co,ytrain1)"
   ]
  },
  {
   "cell_type": "code",
   "execution_count": 52,
   "metadata": {},
   "outputs": [
    {
     "data": {
      "text/html": [
       "<div>\n",
       "<style scoped>\n",
       "    .dataframe tbody tr th:only-of-type {\n",
       "        vertical-align: middle;\n",
       "    }\n",
       "\n",
       "    .dataframe tbody tr th {\n",
       "        vertical-align: top;\n",
       "    }\n",
       "\n",
       "    .dataframe thead th {\n",
       "        text-align: right;\n",
       "    }\n",
       "</style>\n",
       "<table border=\"1\" class=\"dataframe\">\n",
       "  <thead>\n",
       "    <tr style=\"text-align: right;\">\n",
       "      <th></th>\n",
       "      <th>NOX</th>\n",
       "      <th>RM</th>\n",
       "      <th>DIS</th>\n",
       "      <th>PTRATIO</th>\n",
       "      <th>LSTAT</th>\n",
       "    </tr>\n",
       "  </thead>\n",
       "  <tbody>\n",
       "    <tr>\n",
       "      <th>0</th>\n",
       "      <td>0.538</td>\n",
       "      <td>6.575</td>\n",
       "      <td>4.0900</td>\n",
       "      <td>15.3</td>\n",
       "      <td>4.98</td>\n",
       "    </tr>\n",
       "    <tr>\n",
       "      <th>1</th>\n",
       "      <td>0.469</td>\n",
       "      <td>6.421</td>\n",
       "      <td>4.9671</td>\n",
       "      <td>17.8</td>\n",
       "      <td>9.14</td>\n",
       "    </tr>\n",
       "    <tr>\n",
       "      <th>2</th>\n",
       "      <td>0.469</td>\n",
       "      <td>7.185</td>\n",
       "      <td>4.9671</td>\n",
       "      <td>17.8</td>\n",
       "      <td>4.03</td>\n",
       "    </tr>\n",
       "    <tr>\n",
       "      <th>3</th>\n",
       "      <td>0.458</td>\n",
       "      <td>6.998</td>\n",
       "      <td>6.0622</td>\n",
       "      <td>18.7</td>\n",
       "      <td>2.94</td>\n",
       "    </tr>\n",
       "    <tr>\n",
       "      <th>4</th>\n",
       "      <td>0.458</td>\n",
       "      <td>7.147</td>\n",
       "      <td>6.0622</td>\n",
       "      <td>18.7</td>\n",
       "      <td>5.33</td>\n",
       "    </tr>\n",
       "  </tbody>\n",
       "</table>\n",
       "</div>"
      ],
      "text/plain": [
       "     NOX     RM     DIS  PTRATIO  LSTAT\n",
       "0  0.538  6.575  4.0900     15.3   4.98\n",
       "1  0.469  6.421  4.9671     17.8   9.14\n",
       "2  0.469  7.185  4.9671     17.8   4.03\n",
       "3  0.458  6.998  6.0622     18.7   2.94\n",
       "4  0.458  7.147  6.0622     18.7   5.33"
      ]
     },
     "execution_count": 52,
     "metadata": {},
     "output_type": "execute_result"
    }
   ],
   "source": [
    "c1.head()"
   ]
  },
  {
   "cell_type": "code",
   "execution_count": 53,
   "metadata": {},
   "outputs": [],
   "source": [
    "from sklearn.preprocessing import StandardScaler\n",
    "sc = StandardScaler()"
   ]
  },
  {
   "cell_type": "code",
   "execution_count": 54,
   "metadata": {},
   "outputs": [
    {
     "data": {
      "text/html": [
       "<div>\n",
       "<style scoped>\n",
       "    .dataframe tbody tr th:only-of-type {\n",
       "        vertical-align: middle;\n",
       "    }\n",
       "\n",
       "    .dataframe tbody tr th {\n",
       "        vertical-align: top;\n",
       "    }\n",
       "\n",
       "    .dataframe thead th {\n",
       "        text-align: right;\n",
       "    }\n",
       "</style>\n",
       "<table border=\"1\" class=\"dataframe\">\n",
       "  <thead>\n",
       "    <tr style=\"text-align: right;\">\n",
       "      <th></th>\n",
       "      <th>NOX</th>\n",
       "      <th>RM</th>\n",
       "      <th>DIS</th>\n",
       "      <th>PTRATIO</th>\n",
       "      <th>LSTAT</th>\n",
       "    </tr>\n",
       "  </thead>\n",
       "  <tbody>\n",
       "    <tr>\n",
       "      <th>0</th>\n",
       "      <td>-0.144217</td>\n",
       "      <td>0.391805</td>\n",
       "      <td>0.152084</td>\n",
       "      <td>-1.464302</td>\n",
       "      <td>-1.080587</td>\n",
       "    </tr>\n",
       "    <tr>\n",
       "      <th>1</th>\n",
       "      <td>-0.740262</td>\n",
       "      <td>0.174310</td>\n",
       "      <td>0.579678</td>\n",
       "      <td>-0.305067</td>\n",
       "      <td>-0.493670</td>\n",
       "    </tr>\n",
       "    <tr>\n",
       "      <th>2</th>\n",
       "      <td>-0.740262</td>\n",
       "      <td>1.253314</td>\n",
       "      <td>0.579678</td>\n",
       "      <td>-0.305067</td>\n",
       "      <td>-1.214619</td>\n",
       "    </tr>\n",
       "    <tr>\n",
       "      <th>3</th>\n",
       "      <td>-0.835284</td>\n",
       "      <td>0.989212</td>\n",
       "      <td>1.113549</td>\n",
       "      <td>0.112258</td>\n",
       "      <td>-1.368403</td>\n",
       "    </tr>\n",
       "    <tr>\n",
       "      <th>4</th>\n",
       "      <td>-0.835284</td>\n",
       "      <td>1.199646</td>\n",
       "      <td>1.113549</td>\n",
       "      <td>0.112258</td>\n",
       "      <td>-1.031207</td>\n",
       "    </tr>\n",
       "  </tbody>\n",
       "</table>\n",
       "</div>"
      ],
      "text/plain": [
       "        NOX        RM       DIS   PTRATIO     LSTAT\n",
       "0 -0.144217  0.391805  0.152084 -1.464302 -1.080587\n",
       "1 -0.740262  0.174310  0.579678 -0.305067 -0.493670\n",
       "2 -0.740262  1.253314  0.579678 -0.305067 -1.214619\n",
       "3 -0.835284  0.989212  1.113549  0.112258 -1.368403\n",
       "4 -0.835284  1.199646  1.113549  0.112258 -1.031207"
      ]
     },
     "execution_count": 54,
     "metadata": {},
     "output_type": "execute_result"
    }
   ],
   "source": [
    "ins = sc.fit_transform(c1)\n",
    "ins1 = pd.DataFrame(ins,columns=c1.columns)\n",
    "ins1.head()"
   ]
  },
  {
   "cell_type": "code",
   "execution_count": 55,
   "metadata": {},
   "outputs": [
    {
     "data": {
      "text/html": [
       "<div>\n",
       "<style scoped>\n",
       "    .dataframe tbody tr th:only-of-type {\n",
       "        vertical-align: middle;\n",
       "    }\n",
       "\n",
       "    .dataframe tbody tr th {\n",
       "        vertical-align: top;\n",
       "    }\n",
       "\n",
       "    .dataframe thead th {\n",
       "        text-align: right;\n",
       "    }\n",
       "</style>\n",
       "<table border=\"1\" class=\"dataframe\">\n",
       "  <thead>\n",
       "    <tr style=\"text-align: right;\">\n",
       "      <th></th>\n",
       "      <th>NOX</th>\n",
       "      <th>RM</th>\n",
       "      <th>DIS</th>\n",
       "      <th>PTRATIO</th>\n",
       "      <th>LSTAT</th>\n",
       "      <th>0.0</th>\n",
       "      <th>1.0</th>\n",
       "    </tr>\n",
       "  </thead>\n",
       "  <tbody>\n",
       "    <tr>\n",
       "      <th>0</th>\n",
       "      <td>-0.144217</td>\n",
       "      <td>0.391805</td>\n",
       "      <td>0.152084</td>\n",
       "      <td>-1.464302</td>\n",
       "      <td>-1.080587</td>\n",
       "      <td>1</td>\n",
       "      <td>0</td>\n",
       "    </tr>\n",
       "    <tr>\n",
       "      <th>1</th>\n",
       "      <td>-0.740262</td>\n",
       "      <td>0.174310</td>\n",
       "      <td>0.579678</td>\n",
       "      <td>-0.305067</td>\n",
       "      <td>-0.493670</td>\n",
       "      <td>1</td>\n",
       "      <td>0</td>\n",
       "    </tr>\n",
       "    <tr>\n",
       "      <th>2</th>\n",
       "      <td>-0.740262</td>\n",
       "      <td>1.253314</td>\n",
       "      <td>0.579678</td>\n",
       "      <td>-0.305067</td>\n",
       "      <td>-1.214619</td>\n",
       "      <td>1</td>\n",
       "      <td>0</td>\n",
       "    </tr>\n",
       "    <tr>\n",
       "      <th>3</th>\n",
       "      <td>-0.835284</td>\n",
       "      <td>0.989212</td>\n",
       "      <td>1.113549</td>\n",
       "      <td>0.112258</td>\n",
       "      <td>-1.368403</td>\n",
       "      <td>1</td>\n",
       "      <td>0</td>\n",
       "    </tr>\n",
       "    <tr>\n",
       "      <th>4</th>\n",
       "      <td>-0.835284</td>\n",
       "      <td>1.199646</td>\n",
       "      <td>1.113549</td>\n",
       "      <td>0.112258</td>\n",
       "      <td>-1.031207</td>\n",
       "      <td>1</td>\n",
       "      <td>0</td>\n",
       "    </tr>\n",
       "  </tbody>\n",
       "</table>\n",
       "</div>"
      ],
      "text/plain": [
       "        NOX        RM       DIS   PTRATIO     LSTAT  0.0  1.0\n",
       "0 -0.144217  0.391805  0.152084 -1.464302 -1.080587    1    0\n",
       "1 -0.740262  0.174310  0.579678 -0.305067 -0.493670    1    0\n",
       "2 -0.740262  1.253314  0.579678 -0.305067 -1.214619    1    0\n",
       "3 -0.835284  0.989212  1.113549  0.112258 -1.368403    1    0\n",
       "4 -0.835284  1.199646  1.113549  0.112258 -1.031207    1    0"
      ]
     },
     "execution_count": 55,
     "metadata": {},
     "output_type": "execute_result"
    }
   ],
   "source": [
    "scaled = pd.concat([ins1,c2],1)\n",
    "scaled.head()"
   ]
  },
  {
   "cell_type": "code",
   "execution_count": 56,
   "metadata": {},
   "outputs": [],
   "source": [
    "import scipy.stats as st\n"
   ]
  },
  {
   "cell_type": "code",
   "execution_count": 57,
   "metadata": {},
   "outputs": [],
   "source": [
    "out = df1['Target']"
   ]
  },
  {
   "cell_type": "code",
   "execution_count": 58,
   "metadata": {},
   "outputs": [],
   "source": [
    "box_out, lam = st.boxcox(out)"
   ]
  },
  {
   "cell_type": "code",
   "execution_count": 59,
   "metadata": {},
   "outputs": [],
   "source": [
    "const = sm.add_constant(scaled)\n",
    "modsc = sm.OLS(box_out,const).fit()"
   ]
  },
  {
   "cell_type": "code",
   "execution_count": 60,
   "metadata": {},
   "outputs": [
    {
     "data": {
      "text/html": [
       "<table class=\"simpletable\">\n",
       "<caption>OLS Regression Results</caption>\n",
       "<tr>\n",
       "  <th>Dep. Variable:</th>            <td>y</td>        <th>  R-squared:         </th> <td>   0.756</td> \n",
       "</tr>\n",
       "<tr>\n",
       "  <th>Model:</th>                   <td>OLS</td>       <th>  Adj. R-squared:    </th> <td>   0.753</td> \n",
       "</tr>\n",
       "<tr>\n",
       "  <th>Method:</th>             <td>Least Squares</td>  <th>  F-statistic:       </th> <td>   257.4</td> \n",
       "</tr>\n",
       "<tr>\n",
       "  <th>Date:</th>             <td>Mon, 12 Oct 2020</td> <th>  Prob (F-statistic):</th> <td>3.11e-149</td>\n",
       "</tr>\n",
       "<tr>\n",
       "  <th>Time:</th>                 <td>22:28:47</td>     <th>  Log-Likelihood:    </th> <td> -25.253</td> \n",
       "</tr>\n",
       "<tr>\n",
       "  <th>No. Observations:</th>      <td>   506</td>      <th>  AIC:               </th> <td>   64.51</td> \n",
       "</tr>\n",
       "<tr>\n",
       "  <th>Df Residuals:</th>          <td>   499</td>      <th>  BIC:               </th> <td>   94.09</td> \n",
       "</tr>\n",
       "<tr>\n",
       "  <th>Df Model:</th>              <td>     6</td>      <th>                     </th>     <td> </td>    \n",
       "</tr>\n",
       "<tr>\n",
       "  <th>Covariance Type:</th>      <td>nonrobust</td>    <th>                     </th>     <td> </td>    \n",
       "</tr>\n",
       "</table>\n",
       "<table class=\"simpletable\">\n",
       "<tr>\n",
       "     <td></td>        <th>coef</th>     <th>std err</th>      <th>t</th>      <th>P>|t|</th>  <th>[0.025</th>    <th>0.975]</th>  \n",
       "</tr>\n",
       "<tr>\n",
       "  <th>const</th>   <td>    2.3071</td> <td>    0.015</td> <td>  151.741</td> <td> 0.000</td> <td>    2.277</td> <td>    2.337</td>\n",
       "</tr>\n",
       "<tr>\n",
       "  <th>NOX</th>     <td>   -0.1326</td> <td>    0.020</td> <td>   -6.715</td> <td> 0.000</td> <td>   -0.171</td> <td>   -0.094</td>\n",
       "</tr>\n",
       "<tr>\n",
       "  <th>RM</th>      <td>    0.1147</td> <td>    0.015</td> <td>    7.656</td> <td> 0.000</td> <td>    0.085</td> <td>    0.144</td>\n",
       "</tr>\n",
       "<tr>\n",
       "  <th>DIS</th>     <td>   -0.1167</td> <td>    0.019</td> <td>   -6.267</td> <td> 0.000</td> <td>   -0.153</td> <td>   -0.080</td>\n",
       "</tr>\n",
       "<tr>\n",
       "  <th>PTRATIO</th> <td>   -0.1120</td> <td>    0.013</td> <td>   -8.808</td> <td> 0.000</td> <td>   -0.137</td> <td>   -0.087</td>\n",
       "</tr>\n",
       "<tr>\n",
       "  <th>LSTAT</th>   <td>   -0.2770</td> <td>    0.018</td> <td>  -15.657</td> <td> 0.000</td> <td>   -0.312</td> <td>   -0.242</td>\n",
       "</tr>\n",
       "<tr>\n",
       "  <th>0.0</th>     <td>    1.0755</td> <td>    0.017</td> <td>   64.087</td> <td> 0.000</td> <td>    1.042</td> <td>    1.108</td>\n",
       "</tr>\n",
       "<tr>\n",
       "  <th>1.0</th>     <td>    1.2317</td> <td>    0.030</td> <td>   41.382</td> <td> 0.000</td> <td>    1.173</td> <td>    1.290</td>\n",
       "</tr>\n",
       "</table>\n",
       "<table class=\"simpletable\">\n",
       "<tr>\n",
       "  <th>Omnibus:</th>       <td>40.486</td> <th>  Durbin-Watson:     </th> <td>   1.034</td>\n",
       "</tr>\n",
       "<tr>\n",
       "  <th>Prob(Omnibus):</th> <td> 0.000</td> <th>  Jarque-Bera (JB):  </th> <td> 107.514</td>\n",
       "</tr>\n",
       "<tr>\n",
       "  <th>Skew:</th>          <td> 0.380</td> <th>  Prob(JB):          </th> <td>4.50e-24</td>\n",
       "</tr>\n",
       "<tr>\n",
       "  <th>Kurtosis:</th>      <td> 5.127</td> <th>  Cond. No.          </th> <td>2.12e+16</td>\n",
       "</tr>\n",
       "</table><br/><br/>Warnings:<br/>[1] Standard Errors assume that the covariance matrix of the errors is correctly specified.<br/>[2] The smallest eigenvalue is 3.05e-30. This might indicate that there are<br/>strong multicollinearity problems or that the design matrix is singular."
      ],
      "text/plain": [
       "<class 'statsmodels.iolib.summary.Summary'>\n",
       "\"\"\"\n",
       "                            OLS Regression Results                            \n",
       "==============================================================================\n",
       "Dep. Variable:                      y   R-squared:                       0.756\n",
       "Model:                            OLS   Adj. R-squared:                  0.753\n",
       "Method:                 Least Squares   F-statistic:                     257.4\n",
       "Date:                Mon, 12 Oct 2020   Prob (F-statistic):          3.11e-149\n",
       "Time:                        22:28:47   Log-Likelihood:                -25.253\n",
       "No. Observations:                 506   AIC:                             64.51\n",
       "Df Residuals:                     499   BIC:                             94.09\n",
       "Df Model:                           6                                         \n",
       "Covariance Type:            nonrobust                                         \n",
       "==============================================================================\n",
       "                 coef    std err          t      P>|t|      [0.025      0.975]\n",
       "------------------------------------------------------------------------------\n",
       "const          2.3071      0.015    151.741      0.000       2.277       2.337\n",
       "NOX           -0.1326      0.020     -6.715      0.000      -0.171      -0.094\n",
       "RM             0.1147      0.015      7.656      0.000       0.085       0.144\n",
       "DIS           -0.1167      0.019     -6.267      0.000      -0.153      -0.080\n",
       "PTRATIO       -0.1120      0.013     -8.808      0.000      -0.137      -0.087\n",
       "LSTAT         -0.2770      0.018    -15.657      0.000      -0.312      -0.242\n",
       "0.0            1.0755      0.017     64.087      0.000       1.042       1.108\n",
       "1.0            1.2317      0.030     41.382      0.000       1.173       1.290\n",
       "==============================================================================\n",
       "Omnibus:                       40.486   Durbin-Watson:                   1.034\n",
       "Prob(Omnibus):                  0.000   Jarque-Bera (JB):              107.514\n",
       "Skew:                           0.380   Prob(JB):                     4.50e-24\n",
       "Kurtosis:                       5.127   Cond. No.                     2.12e+16\n",
       "==============================================================================\n",
       "\n",
       "Warnings:\n",
       "[1] Standard Errors assume that the covariance matrix of the errors is correctly specified.\n",
       "[2] The smallest eigenvalue is 3.05e-30. This might indicate that there are\n",
       "strong multicollinearity problems or that the design matrix is singular.\n",
       "\"\"\""
      ]
     },
     "execution_count": 60,
     "metadata": {},
     "output_type": "execute_result"
    }
   ],
   "source": [
    "modsc.summary()"
   ]
  },
  {
   "cell_type": "code",
   "execution_count": 61,
   "metadata": {},
   "outputs": [
    {
     "data": {
      "text/plain": [
       "0.7558151317501463"
      ]
     },
     "execution_count": 61,
     "metadata": {},
     "output_type": "execute_result"
    }
   ],
   "source": [
    "lr = LinearRegression()\n",
    "lr.fit(scaled,box_out)\n",
    "lr.score(scaled,box_out)"
   ]
  },
  {
   "cell_type": "code",
   "execution_count": 62,
   "metadata": {},
   "outputs": [],
   "source": [
    "#As you can see we have improved the model from 71% to 75% and in the further stuffs we will increase it more."
   ]
  },
  {
   "cell_type": "code",
   "execution_count": null,
   "metadata": {},
   "outputs": [],
   "source": [
    "#we are gonna improve this more"
   ]
  },
  {
   "cell_type": "code",
   "execution_count": 63,
   "metadata": {},
   "outputs": [],
   "source": [
    "from sklearn.linear_model import Ridge,Lasso,ElasticNet\n",
    "from sklearn.model_selection import GridSearchCV\n",
    "from sklearn.model_selection import RandomizedSearchCV\n",
    "from sklearn.preprocessing import PolynomialFeatures\n",
    "from sklearn.model_selection import cross_val_score\n"
   ]
  },
  {
   "cell_type": "code",
   "execution_count": 105,
   "metadata": {},
   "outputs": [
    {
     "data": {
      "text/plain": [
       "[0.3158076724431447, 0.1066008701624824, 0.3375499693778779]"
      ]
     },
     "execution_count": 105,
     "metadata": {},
     "output_type": "execute_result"
    }
   ],
   "source": [
    "#Cross val score\n",
    "mod_lr = LinearRegression()\n",
    "res = cross_val_score(mod_lr, scaled, box_out, cv=3, scoring='neg_mean_squared_error')\n",
    "rmse = np.sqrt(abs(res))\n",
    "be = np.mean(rmse)\n",
    "ve = np.std(rmse)\n",
    "cve = ve/be\n",
    "res_lr = [be,ve, cve]\n",
    "res_lr"
   ]
  },
  {
   "cell_type": "code",
   "execution_count": 99,
   "metadata": {},
   "outputs": [
    {
     "data": {
      "text/plain": [
       "[0.3151616539457307, 0.1071184287645093, 0.33988407987906605]"
      ]
     },
     "execution_count": 99,
     "metadata": {},
     "output_type": "execute_result"
    }
   ],
   "source": [
    "#Ridge  : 1\n",
    "mod_rid = Ridge(alpha = 1) #we should use scaled version of data for Ridge, or pass Normalize = True under Ridge() to do it internally\n",
    "res = cross_val_score(mod_rid,scaled,box_out, cv = 3, scoring='neg_mean_squared_error')\n",
    "rmse = np.sqrt(abs(res))\n",
    "be = np.mean(rmse)\n",
    "ve = np.std(rmse)\n",
    "cve = ve/be\n",
    "res_rid_1 = [be,ve,cve]\n",
    "res_rid_1"
   ]
  },
  {
   "cell_type": "code",
   "execution_count": 100,
   "metadata": {},
   "outputs": [
    {
     "data": {
      "text/plain": [
       "[0.3129797512515091, 0.10895384256020432, 0.3481178642532996]"
      ]
     },
     "execution_count": 100,
     "metadata": {},
     "output_type": "execute_result"
    }
   ],
   "source": [
    "#Ridge = 5\n",
    "mod_rid = Ridge(alpha = 5) #we should use scaled version of data for Ridge, or pass Normalize = True under Ridge() to do it internally\n",
    "res = cross_val_score(mod_rid,scaled,box_out, cv = 3, scoring='neg_mean_squared_error')\n",
    "rmse = np.sqrt(abs(res))\n",
    "be = np.mean(rmse)\n",
    "ve = np.std(rmse)\n",
    "cve = ve/be\n",
    "res_rid_5 = [be,ve,cve]\n",
    "res_rid_5"
   ]
  },
  {
   "cell_type": "code",
   "execution_count": 101,
   "metadata": {},
   "outputs": [
    {
     "data": {
      "text/plain": [
       "[0.31091199191056246, 0.11086362858208143, 0.35657559523780824]"
      ]
     },
     "execution_count": 101,
     "metadata": {},
     "output_type": "execute_result"
    }
   ],
   "source": [
    "#Ridge = 10\n",
    "mod_rid = Ridge(alpha = 10) #we should use scaled version of data for Ridge, or pass Normalize = True under Ridge() to do it internally\n",
    "res = cross_val_score(mod_rid,scaled,box_out, cv = 3, scoring='neg_mean_squared_error')\n",
    "rmse = np.sqrt(abs(res))\n",
    "be = np.mean(rmse)\n",
    "ve = np.std(rmse)\n",
    "cve = ve/be\n",
    "res_rid_10 = [be,ve,cve]\n",
    "res_rid_10"
   ]
  },
  {
   "cell_type": "code",
   "execution_count": 102,
   "metadata": {},
   "outputs": [
    {
     "data": {
      "text/plain": [
       "[0.32738667374318414, 0.1209924294146996, 0.369570416630981]"
      ]
     },
     "execution_count": 102,
     "metadata": {},
     "output_type": "execute_result"
    }
   ],
   "source": [
    "#Lasso 0.01\n",
    "mod_las = Lasso(alpha = 0.01) \n",
    "res = cross_val_score(mod_las,scaled,box_out, cv = 3, scoring='neg_mean_squared_error')\n",
    "rmse = np.sqrt(abs(res))\n",
    "be = np.mean(rmse)\n",
    "ve = np.std(rmse)\n",
    "cve = ve/be\n",
    "res_las = [be,ve,cve]\n",
    "res_las"
   ]
  },
  {
   "cell_type": "code",
   "execution_count": 103,
   "metadata": {},
   "outputs": [
    {
     "data": {
      "text/plain": [
       "[0.31835144800365356, 0.1139996864515077, 0.35809382104710696]"
      ]
     },
     "execution_count": 103,
     "metadata": {},
     "output_type": "execute_result"
    }
   ],
   "source": [
    "#EnET\n",
    "mod_enet = ElasticNet(alpha = 0.008) \n",
    "res = cross_val_score(mod_enet,scaled,box_out, cv = 3, scoring='neg_mean_squared_error')\n",
    "rmse = np.sqrt(abs(res))\n",
    "be = np.mean(rmse)\n",
    "ve = np.std(rmse)\n",
    "cve = ve/be\n",
    "res_enet = [be,ve,cve]\n",
    "res_enet"
   ]
  },
  {
   "cell_type": "code",
   "execution_count": 107,
   "metadata": {},
   "outputs": [],
   "source": [
    "score = pd.DataFrame()\n",
    "score['LR'] = res_lr\n",
    "score['Ridge_1'] = res_rid_1\n",
    "score['Ridge_5'] = res_rid_5\n",
    "score['Ridge_10'] = res_rid_10\n",
    "score['Lasso'] = res_las\n",
    "score['Enet'] = res_enet\n",
    "score.index = ['Bias Error','Variance Error','Coefficient of Variance']\n"
   ]
  },
  {
   "cell_type": "code",
   "execution_count": 108,
   "metadata": {},
   "outputs": [
    {
     "data": {
      "text/html": [
       "<div>\n",
       "<style scoped>\n",
       "    .dataframe tbody tr th:only-of-type {\n",
       "        vertical-align: middle;\n",
       "    }\n",
       "\n",
       "    .dataframe tbody tr th {\n",
       "        vertical-align: top;\n",
       "    }\n",
       "\n",
       "    .dataframe thead th {\n",
       "        text-align: right;\n",
       "    }\n",
       "</style>\n",
       "<table border=\"1\" class=\"dataframe\">\n",
       "  <thead>\n",
       "    <tr style=\"text-align: right;\">\n",
       "      <th></th>\n",
       "      <th>LR</th>\n",
       "      <th>Ridge_1</th>\n",
       "      <th>Ridge_5</th>\n",
       "      <th>Ridge_10</th>\n",
       "      <th>Lasso</th>\n",
       "      <th>Enet</th>\n",
       "    </tr>\n",
       "  </thead>\n",
       "  <tbody>\n",
       "    <tr>\n",
       "      <th>Bias Error</th>\n",
       "      <td>0.315808</td>\n",
       "      <td>0.315162</td>\n",
       "      <td>0.312980</td>\n",
       "      <td>0.310912</td>\n",
       "      <td>0.327387</td>\n",
       "      <td>0.318351</td>\n",
       "    </tr>\n",
       "    <tr>\n",
       "      <th>Variance Error</th>\n",
       "      <td>0.106601</td>\n",
       "      <td>0.107118</td>\n",
       "      <td>0.108954</td>\n",
       "      <td>0.110864</td>\n",
       "      <td>0.120992</td>\n",
       "      <td>0.114000</td>\n",
       "    </tr>\n",
       "    <tr>\n",
       "      <th>Coefficient of Variance</th>\n",
       "      <td>0.337550</td>\n",
       "      <td>0.339884</td>\n",
       "      <td>0.348118</td>\n",
       "      <td>0.356576</td>\n",
       "      <td>0.369570</td>\n",
       "      <td>0.358094</td>\n",
       "    </tr>\n",
       "  </tbody>\n",
       "</table>\n",
       "</div>"
      ],
      "text/plain": [
       "                               LR   Ridge_1   Ridge_5  Ridge_10     Lasso  \\\n",
       "Bias Error               0.315808  0.315162  0.312980  0.310912  0.327387   \n",
       "Variance Error           0.106601  0.107118  0.108954  0.110864  0.120992   \n",
       "Coefficient of Variance  0.337550  0.339884  0.348118  0.356576  0.369570   \n",
       "\n",
       "                             Enet  \n",
       "Bias Error               0.318351  \n",
       "Variance Error           0.114000  \n",
       "Coefficient of Variance  0.358094  "
      ]
     },
     "execution_count": 108,
     "metadata": {},
     "output_type": "execute_result"
    }
   ],
   "source": [
    "score"
   ]
  },
  {
   "cell_type": "code",
   "execution_count": 112,
   "metadata": {},
   "outputs": [
    {
     "data": {
      "text/plain": [
       "array([-0.13257351,  0.11468679, -0.1166823 , -0.11198379, -0.27703364,\n",
       "       -0.07809809,  0.07809809])"
      ]
     },
     "execution_count": 112,
     "metadata": {},
     "output_type": "execute_result"
    }
   ],
   "source": [
    "mod_lr = LinearRegression()\n",
    "mod_lr.fit(scaled,box_out)\n",
    "coef = mod_lr.coef_\n",
    "coef"
   ]
  },
  {
   "cell_type": "code",
   "execution_count": 113,
   "metadata": {},
   "outputs": [],
   "source": [
    "coef1 = pd.DataFrame()\n",
    "coef1['LR'] = mod_lr.coef_"
   ]
  },
  {
   "cell_type": "code",
   "execution_count": 114,
   "metadata": {},
   "outputs": [],
   "source": [
    "mod_rid = Ridge(alpha = 1)\n",
    "mod_rid.fit(scaled,box_out)\n",
    "coef1['Ridge_1'] = mod_rid.coef_"
   ]
  },
  {
   "cell_type": "code",
   "execution_count": 115,
   "metadata": {},
   "outputs": [],
   "source": [
    "mod_rid = Ridge(alpha = 5)\n",
    "mod_rid.fit(scaled,box_out)\n",
    "coef1['Ridge_5'] = mod_rid.coef_"
   ]
  },
  {
   "cell_type": "code",
   "execution_count": 116,
   "metadata": {},
   "outputs": [],
   "source": [
    "mod_rid = Lasso(alpha = 0.05)\n",
    "mod_rid.fit(scaled,box_out)\n",
    "coef1['Lasso_0.05'] = mod_rid.coef_"
   ]
  },
  {
   "cell_type": "code",
   "execution_count": 117,
   "metadata": {},
   "outputs": [],
   "source": [
    "mod_rid = ElasticNet(alpha = 0.008)\n",
    "mod_rid.fit(scaled,box_out)\n",
    "coef1['ElasticNet_0.08'] = mod_rid.coef_"
   ]
  },
  {
   "cell_type": "code",
   "execution_count": 118,
   "metadata": {},
   "outputs": [
    {
     "data": {
      "text/html": [
       "<div>\n",
       "<style scoped>\n",
       "    .dataframe tbody tr th:only-of-type {\n",
       "        vertical-align: middle;\n",
       "    }\n",
       "\n",
       "    .dataframe tbody tr th {\n",
       "        vertical-align: top;\n",
       "    }\n",
       "\n",
       "    .dataframe thead th {\n",
       "        text-align: right;\n",
       "    }\n",
       "</style>\n",
       "<table border=\"1\" class=\"dataframe\">\n",
       "  <thead>\n",
       "    <tr style=\"text-align: right;\">\n",
       "      <th></th>\n",
       "      <th>LR</th>\n",
       "      <th>Ridge_1</th>\n",
       "      <th>Ridge_5</th>\n",
       "      <th>Lasso_0.05</th>\n",
       "      <th>ElasticNet_0.08</th>\n",
       "    </tr>\n",
       "  </thead>\n",
       "  <tbody>\n",
       "    <tr>\n",
       "      <th>NOX</th>\n",
       "      <td>-0.132574</td>\n",
       "      <td>-0.131712</td>\n",
       "      <td>-0.128443</td>\n",
       "      <td>-0.003930</td>\n",
       "      <td>-0.112575</td>\n",
       "    </tr>\n",
       "    <tr>\n",
       "      <th>RM</th>\n",
       "      <td>0.114687</td>\n",
       "      <td>0.115061</td>\n",
       "      <td>0.116475</td>\n",
       "      <td>0.103526</td>\n",
       "      <td>0.116151</td>\n",
       "    </tr>\n",
       "    <tr>\n",
       "      <th>DIS</th>\n",
       "      <td>-0.116682</td>\n",
       "      <td>-0.115485</td>\n",
       "      <td>-0.110877</td>\n",
       "      <td>-0.000000</td>\n",
       "      <td>-0.096791</td>\n",
       "    </tr>\n",
       "    <tr>\n",
       "      <th>PTRATIO</th>\n",
       "      <td>-0.111984</td>\n",
       "      <td>-0.111867</td>\n",
       "      <td>-0.111402</td>\n",
       "      <td>-0.069979</td>\n",
       "      <td>-0.108748</td>\n",
       "    </tr>\n",
       "    <tr>\n",
       "      <th>LSTAT</th>\n",
       "      <td>-0.277034</td>\n",
       "      <td>-0.276237</td>\n",
       "      <td>-0.273110</td>\n",
       "      <td>-0.269426</td>\n",
       "      <td>-0.274953</td>\n",
       "    </tr>\n",
       "    <tr>\n",
       "      <th>0.0</th>\n",
       "      <td>-0.078098</td>\n",
       "      <td>-0.077041</td>\n",
       "      <td>-0.073119</td>\n",
       "      <td>-0.000000</td>\n",
       "      <td>-0.046834</td>\n",
       "    </tr>\n",
       "    <tr>\n",
       "      <th>1.0</th>\n",
       "      <td>0.078098</td>\n",
       "      <td>0.077041</td>\n",
       "      <td>0.073119</td>\n",
       "      <td>0.000000</td>\n",
       "      <td>0.046435</td>\n",
       "    </tr>\n",
       "  </tbody>\n",
       "</table>\n",
       "</div>"
      ],
      "text/plain": [
       "               LR   Ridge_1   Ridge_5  Lasso_0.05  ElasticNet_0.08\n",
       "NOX     -0.132574 -0.131712 -0.128443   -0.003930        -0.112575\n",
       "RM       0.114687  0.115061  0.116475    0.103526         0.116151\n",
       "DIS     -0.116682 -0.115485 -0.110877   -0.000000        -0.096791\n",
       "PTRATIO -0.111984 -0.111867 -0.111402   -0.069979        -0.108748\n",
       "LSTAT   -0.277034 -0.276237 -0.273110   -0.269426        -0.274953\n",
       "0.0     -0.078098 -0.077041 -0.073119   -0.000000        -0.046834\n",
       "1.0      0.078098  0.077041  0.073119    0.000000         0.046435"
      ]
     },
     "execution_count": 118,
     "metadata": {},
     "output_type": "execute_result"
    }
   ],
   "source": [
    "coef1.index = scaled.columns\n",
    "coef1"
   ]
  },
  {
   "cell_type": "code",
   "execution_count": 119,
   "metadata": {},
   "outputs": [],
   "source": [
    "col = coef1[coef1['Lasso_0.05']!=0].index"
   ]
  },
  {
   "cell_type": "code",
   "execution_count": 120,
   "metadata": {},
   "outputs": [],
   "source": [
    "inp_final = scaled[col]"
   ]
  },
  {
   "cell_type": "code",
   "execution_count": 121,
   "metadata": {},
   "outputs": [
    {
     "data": {
      "text/html": [
       "<table class=\"simpletable\">\n",
       "<caption>OLS Regression Results</caption>\n",
       "<tr>\n",
       "  <th>Dep. Variable:</th>            <td>y</td>        <th>  R-squared:         </th> <td>   0.729</td> \n",
       "</tr>\n",
       "<tr>\n",
       "  <th>Model:</th>                   <td>OLS</td>       <th>  Adj. R-squared:    </th> <td>   0.727</td> \n",
       "</tr>\n",
       "<tr>\n",
       "  <th>Method:</th>             <td>Least Squares</td>  <th>  F-statistic:       </th> <td>   337.6</td> \n",
       "</tr>\n",
       "<tr>\n",
       "  <th>Date:</th>             <td>Mon, 12 Oct 2020</td> <th>  Prob (F-statistic):</th> <td>1.14e-140</td>\n",
       "</tr>\n",
       "<tr>\n",
       "  <th>Time:</th>                 <td>23:34:47</td>     <th>  Log-Likelihood:    </th> <td> -51.229</td> \n",
       "</tr>\n",
       "<tr>\n",
       "  <th>No. Observations:</th>      <td>   506</td>      <th>  AIC:               </th> <td>   112.5</td> \n",
       "</tr>\n",
       "<tr>\n",
       "  <th>Df Residuals:</th>          <td>   501</td>      <th>  BIC:               </th> <td>   133.6</td> \n",
       "</tr>\n",
       "<tr>\n",
       "  <th>Df Model:</th>              <td>     4</td>      <th>                     </th>     <td> </td>    \n",
       "</tr>\n",
       "<tr>\n",
       "  <th>Covariance Type:</th>      <td>nonrobust</td>    <th>                     </th>     <td> </td>    \n",
       "</tr>\n",
       "</table>\n",
       "<table class=\"simpletable\">\n",
       "<tr>\n",
       "     <td></td>        <th>coef</th>     <th>std err</th>      <th>t</th>      <th>P>|t|</th>  <th>[0.025</th>    <th>0.975]</th>  \n",
       "</tr>\n",
       "<tr>\n",
       "  <th>const</th>   <td>    3.3934</td> <td>    0.012</td> <td>  283.672</td> <td> 0.000</td> <td>    3.370</td> <td>    3.417</td>\n",
       "</tr>\n",
       "<tr>\n",
       "  <th>NOX</th>     <td>   -0.0397</td> <td>    0.015</td> <td>   -2.659</td> <td> 0.008</td> <td>   -0.069</td> <td>   -0.010</td>\n",
       "</tr>\n",
       "<tr>\n",
       "  <th>RM</th>      <td>    0.1309</td> <td>    0.016</td> <td>    8.418</td> <td> 0.000</td> <td>    0.100</td> <td>    0.161</td>\n",
       "</tr>\n",
       "<tr>\n",
       "  <th>PTRATIO</th> <td>   -0.1036</td> <td>    0.013</td> <td>   -7.899</td> <td> 0.000</td> <td>   -0.129</td> <td>   -0.078</td>\n",
       "</tr>\n",
       "<tr>\n",
       "  <th>LSTAT</th>   <td>   -0.2686</td> <td>    0.018</td> <td>  -14.566</td> <td> 0.000</td> <td>   -0.305</td> <td>   -0.232</td>\n",
       "</tr>\n",
       "</table>\n",
       "<table class=\"simpletable\">\n",
       "<tr>\n",
       "  <th>Omnibus:</th>       <td>60.185</td> <th>  Durbin-Watson:     </th> <td>   0.884</td>\n",
       "</tr>\n",
       "<tr>\n",
       "  <th>Prob(Omnibus):</th> <td> 0.000</td> <th>  Jarque-Bera (JB):  </th> <td> 161.291</td>\n",
       "</tr>\n",
       "<tr>\n",
       "  <th>Skew:</th>          <td> 0.588</td> <th>  Prob(JB):          </th> <td>9.46e-36</td>\n",
       "</tr>\n",
       "<tr>\n",
       "  <th>Kurtosis:</th>      <td> 5.503</td> <th>  Cond. No.          </th> <td>    2.84</td>\n",
       "</tr>\n",
       "</table><br/><br/>Warnings:<br/>[1] Standard Errors assume that the covariance matrix of the errors is correctly specified."
      ],
      "text/plain": [
       "<class 'statsmodels.iolib.summary.Summary'>\n",
       "\"\"\"\n",
       "                            OLS Regression Results                            \n",
       "==============================================================================\n",
       "Dep. Variable:                      y   R-squared:                       0.729\n",
       "Model:                            OLS   Adj. R-squared:                  0.727\n",
       "Method:                 Least Squares   F-statistic:                     337.6\n",
       "Date:                Mon, 12 Oct 2020   Prob (F-statistic):          1.14e-140\n",
       "Time:                        23:34:47   Log-Likelihood:                -51.229\n",
       "No. Observations:                 506   AIC:                             112.5\n",
       "Df Residuals:                     501   BIC:                             133.6\n",
       "Df Model:                           4                                         \n",
       "Covariance Type:            nonrobust                                         \n",
       "==============================================================================\n",
       "                 coef    std err          t      P>|t|      [0.025      0.975]\n",
       "------------------------------------------------------------------------------\n",
       "const          3.3934      0.012    283.672      0.000       3.370       3.417\n",
       "NOX           -0.0397      0.015     -2.659      0.008      -0.069      -0.010\n",
       "RM             0.1309      0.016      8.418      0.000       0.100       0.161\n",
       "PTRATIO       -0.1036      0.013     -7.899      0.000      -0.129      -0.078\n",
       "LSTAT         -0.2686      0.018    -14.566      0.000      -0.305      -0.232\n",
       "==============================================================================\n",
       "Omnibus:                       60.185   Durbin-Watson:                   0.884\n",
       "Prob(Omnibus):                  0.000   Jarque-Bera (JB):              161.291\n",
       "Skew:                           0.588   Prob(JB):                     9.46e-36\n",
       "Kurtosis:                       5.503   Cond. No.                         2.84\n",
       "==============================================================================\n",
       "\n",
       "Warnings:\n",
       "[1] Standard Errors assume that the covariance matrix of the errors is correctly specified.\n",
       "\"\"\""
      ]
     },
     "execution_count": 121,
     "metadata": {},
     "output_type": "execute_result"
    }
   ],
   "source": [
    "inpc = sm.add_constant(inp_final)\n",
    "ols = sm.OLS(box_out,inpc)\n",
    "ols_mod = ols.fit()\n",
    "ols_mod.summary()"
   ]
  },
  {
   "cell_type": "code",
   "execution_count": 122,
   "metadata": {},
   "outputs": [],
   "source": [
    "inter =PolynomialFeatures(degree=2,include_bias=False,interaction_only=True)\n",
    "inp_inter = inter.fit_transform(inp_final)"
   ]
  },
  {
   "cell_type": "code",
   "execution_count": 123,
   "metadata": {},
   "outputs": [
    {
     "data": {
      "text/html": [
       "<div>\n",
       "<style scoped>\n",
       "    .dataframe tbody tr th:only-of-type {\n",
       "        vertical-align: middle;\n",
       "    }\n",
       "\n",
       "    .dataframe tbody tr th {\n",
       "        vertical-align: top;\n",
       "    }\n",
       "\n",
       "    .dataframe thead th {\n",
       "        text-align: right;\n",
       "    }\n",
       "</style>\n",
       "<table border=\"1\" class=\"dataframe\">\n",
       "  <thead>\n",
       "    <tr style=\"text-align: right;\">\n",
       "      <th></th>\n",
       "      <th>x0</th>\n",
       "      <th>x1</th>\n",
       "      <th>x2</th>\n",
       "      <th>x3</th>\n",
       "      <th>x0 x1</th>\n",
       "      <th>x0 x2</th>\n",
       "      <th>x0 x3</th>\n",
       "      <th>x1 x2</th>\n",
       "      <th>x1 x3</th>\n",
       "      <th>x2 x3</th>\n",
       "    </tr>\n",
       "  </thead>\n",
       "  <tbody>\n",
       "    <tr>\n",
       "      <th>0</th>\n",
       "      <td>-0.144217</td>\n",
       "      <td>0.391805</td>\n",
       "      <td>-1.464302</td>\n",
       "      <td>-1.080587</td>\n",
       "      <td>-0.056505</td>\n",
       "      <td>0.211178</td>\n",
       "      <td>0.155840</td>\n",
       "      <td>-0.573721</td>\n",
       "      <td>-0.423380</td>\n",
       "      <td>1.582307</td>\n",
       "    </tr>\n",
       "    <tr>\n",
       "      <th>1</th>\n",
       "      <td>-0.740262</td>\n",
       "      <td>0.174310</td>\n",
       "      <td>-0.305067</td>\n",
       "      <td>-0.493670</td>\n",
       "      <td>-0.129035</td>\n",
       "      <td>0.225829</td>\n",
       "      <td>0.365445</td>\n",
       "      <td>-0.053176</td>\n",
       "      <td>-0.086051</td>\n",
       "      <td>0.150602</td>\n",
       "    </tr>\n",
       "    <tr>\n",
       "      <th>2</th>\n",
       "      <td>-0.740262</td>\n",
       "      <td>1.253314</td>\n",
       "      <td>-0.305067</td>\n",
       "      <td>-1.214619</td>\n",
       "      <td>-0.927781</td>\n",
       "      <td>0.225829</td>\n",
       "      <td>0.899137</td>\n",
       "      <td>-0.382344</td>\n",
       "      <td>-1.522299</td>\n",
       "      <td>0.370540</td>\n",
       "    </tr>\n",
       "    <tr>\n",
       "      <th>3</th>\n",
       "      <td>-0.835284</td>\n",
       "      <td>0.989212</td>\n",
       "      <td>0.112258</td>\n",
       "      <td>-1.368403</td>\n",
       "      <td>-0.826273</td>\n",
       "      <td>-0.093767</td>\n",
       "      <td>1.143005</td>\n",
       "      <td>0.111047</td>\n",
       "      <td>-1.353640</td>\n",
       "      <td>-0.153614</td>\n",
       "    </tr>\n",
       "    <tr>\n",
       "      <th>4</th>\n",
       "      <td>-0.835284</td>\n",
       "      <td>1.199646</td>\n",
       "      <td>0.112258</td>\n",
       "      <td>-1.031207</td>\n",
       "      <td>-1.002045</td>\n",
       "      <td>-0.093767</td>\n",
       "      <td>0.861351</td>\n",
       "      <td>0.134670</td>\n",
       "      <td>-1.237084</td>\n",
       "      <td>-0.115761</td>\n",
       "    </tr>\n",
       "  </tbody>\n",
       "</table>\n",
       "</div>"
      ],
      "text/plain": [
       "         x0        x1        x2        x3     x0 x1     x0 x2     x0 x3  \\\n",
       "0 -0.144217  0.391805 -1.464302 -1.080587 -0.056505  0.211178  0.155840   \n",
       "1 -0.740262  0.174310 -0.305067 -0.493670 -0.129035  0.225829  0.365445   \n",
       "2 -0.740262  1.253314 -0.305067 -1.214619 -0.927781  0.225829  0.899137   \n",
       "3 -0.835284  0.989212  0.112258 -1.368403 -0.826273 -0.093767  1.143005   \n",
       "4 -0.835284  1.199646  0.112258 -1.031207 -1.002045 -0.093767  0.861351   \n",
       "\n",
       "      x1 x2     x1 x3     x2 x3  \n",
       "0 -0.573721 -0.423380  1.582307  \n",
       "1 -0.053176 -0.086051  0.150602  \n",
       "2 -0.382344 -1.522299  0.370540  \n",
       "3  0.111047 -1.353640 -0.153614  \n",
       "4  0.134670 -1.237084 -0.115761  "
      ]
     },
     "execution_count": 123,
     "metadata": {},
     "output_type": "execute_result"
    }
   ],
   "source": [
    "inp_inter = pd.DataFrame(inp_inter,columns=inter.get_feature_names())\n",
    "inp_inter.head()"
   ]
  },
  {
   "cell_type": "code",
   "execution_count": 124,
   "metadata": {},
   "outputs": [
    {
     "data": {
      "text/html": [
       "<table class=\"simpletable\">\n",
       "<caption>OLS Regression Results</caption>\n",
       "<tr>\n",
       "  <th>Dep. Variable:</th>            <td>y</td>        <th>  R-squared:         </th> <td>   0.813</td> \n",
       "</tr>\n",
       "<tr>\n",
       "  <th>Model:</th>                   <td>OLS</td>       <th>  Adj. R-squared:    </th> <td>   0.809</td> \n",
       "</tr>\n",
       "<tr>\n",
       "  <th>Method:</th>             <td>Least Squares</td>  <th>  F-statistic:       </th> <td>   214.9</td> \n",
       "</tr>\n",
       "<tr>\n",
       "  <th>Date:</th>             <td>Mon, 12 Oct 2020</td> <th>  Prob (F-statistic):</th> <td>5.68e-173</td>\n",
       "</tr>\n",
       "<tr>\n",
       "  <th>Time:</th>                 <td>23:36:52</td>     <th>  Log-Likelihood:    </th> <td>  41.967</td> \n",
       "</tr>\n",
       "<tr>\n",
       "  <th>No. Observations:</th>      <td>   506</td>      <th>  AIC:               </th> <td>  -61.93</td> \n",
       "</tr>\n",
       "<tr>\n",
       "  <th>Df Residuals:</th>          <td>   495</td>      <th>  BIC:               </th> <td>  -15.44</td> \n",
       "</tr>\n",
       "<tr>\n",
       "  <th>Df Model:</th>              <td>    10</td>      <th>                     </th>     <td> </td>    \n",
       "</tr>\n",
       "<tr>\n",
       "  <th>Covariance Type:</th>      <td>nonrobust</td>    <th>                     </th>     <td> </td>    \n",
       "</tr>\n",
       "</table>\n",
       "<table class=\"simpletable\">\n",
       "<tr>\n",
       "    <td></td>       <th>coef</th>     <th>std err</th>      <th>t</th>      <th>P>|t|</th>  <th>[0.025</th>    <th>0.975]</th>  \n",
       "</tr>\n",
       "<tr>\n",
       "  <th>const</th> <td>    3.4115</td> <td>    0.013</td> <td>  254.248</td> <td> 0.000</td> <td>    3.385</td> <td>    3.438</td>\n",
       "</tr>\n",
       "<tr>\n",
       "  <th>x0</th>    <td>   -0.0403</td> <td>    0.014</td> <td>   -2.840</td> <td> 0.005</td> <td>   -0.068</td> <td>   -0.012</td>\n",
       "</tr>\n",
       "<tr>\n",
       "  <th>x1</th>    <td>    0.1279</td> <td>    0.015</td> <td>    8.418</td> <td> 0.000</td> <td>    0.098</td> <td>    0.158</td>\n",
       "</tr>\n",
       "<tr>\n",
       "  <th>x2</th>    <td>   -0.0837</td> <td>    0.012</td> <td>   -6.742</td> <td> 0.000</td> <td>   -0.108</td> <td>   -0.059</td>\n",
       "</tr>\n",
       "<tr>\n",
       "  <th>x3</th>    <td>   -0.2497</td> <td>    0.020</td> <td>  -12.703</td> <td> 0.000</td> <td>   -0.288</td> <td>   -0.211</td>\n",
       "</tr>\n",
       "<tr>\n",
       "  <th>x0 x1</th> <td>   -0.0618</td> <td>    0.015</td> <td>   -4.077</td> <td> 0.000</td> <td>   -0.092</td> <td>   -0.032</td>\n",
       "</tr>\n",
       "<tr>\n",
       "  <th>x0 x2</th> <td>   -0.0009</td> <td>    0.012</td> <td>   -0.075</td> <td> 0.940</td> <td>   -0.024</td> <td>    0.022</td>\n",
       "</tr>\n",
       "<tr>\n",
       "  <th>x0 x3</th> <td>   -0.1213</td> <td>    0.014</td> <td>   -8.607</td> <td> 0.000</td> <td>   -0.149</td> <td>   -0.094</td>\n",
       "</tr>\n",
       "<tr>\n",
       "  <th>x1 x2</th> <td>   -0.0492</td> <td>    0.013</td> <td>   -3.887</td> <td> 0.000</td> <td>   -0.074</td> <td>   -0.024</td>\n",
       "</tr>\n",
       "<tr>\n",
       "  <th>x1 x3</th> <td>   -0.0845</td> <td>    0.012</td> <td>   -6.902</td> <td> 0.000</td> <td>   -0.109</td> <td>   -0.060</td>\n",
       "</tr>\n",
       "<tr>\n",
       "  <th>x2 x3</th> <td>   -0.0936</td> <td>    0.016</td> <td>   -5.689</td> <td> 0.000</td> <td>   -0.126</td> <td>   -0.061</td>\n",
       "</tr>\n",
       "</table>\n",
       "<table class=\"simpletable\">\n",
       "<tr>\n",
       "  <th>Omnibus:</th>       <td>54.748</td> <th>  Durbin-Watson:     </th> <td>   1.119</td>\n",
       "</tr>\n",
       "<tr>\n",
       "  <th>Prob(Omnibus):</th> <td> 0.000</td> <th>  Jarque-Bera (JB):  </th> <td> 209.528</td>\n",
       "</tr>\n",
       "<tr>\n",
       "  <th>Skew:</th>          <td> 0.407</td> <th>  Prob(JB):          </th> <td>3.17e-46</td>\n",
       "</tr>\n",
       "<tr>\n",
       "  <th>Kurtosis:</th>      <td> 6.046</td> <th>  Cond. No.          </th> <td>    5.71</td>\n",
       "</tr>\n",
       "</table><br/><br/>Warnings:<br/>[1] Standard Errors assume that the covariance matrix of the errors is correctly specified."
      ],
      "text/plain": [
       "<class 'statsmodels.iolib.summary.Summary'>\n",
       "\"\"\"\n",
       "                            OLS Regression Results                            \n",
       "==============================================================================\n",
       "Dep. Variable:                      y   R-squared:                       0.813\n",
       "Model:                            OLS   Adj. R-squared:                  0.809\n",
       "Method:                 Least Squares   F-statistic:                     214.9\n",
       "Date:                Mon, 12 Oct 2020   Prob (F-statistic):          5.68e-173\n",
       "Time:                        23:36:52   Log-Likelihood:                 41.967\n",
       "No. Observations:                 506   AIC:                            -61.93\n",
       "Df Residuals:                     495   BIC:                            -15.44\n",
       "Df Model:                          10                                         \n",
       "Covariance Type:            nonrobust                                         \n",
       "==============================================================================\n",
       "                 coef    std err          t      P>|t|      [0.025      0.975]\n",
       "------------------------------------------------------------------------------\n",
       "const          3.4115      0.013    254.248      0.000       3.385       3.438\n",
       "x0            -0.0403      0.014     -2.840      0.005      -0.068      -0.012\n",
       "x1             0.1279      0.015      8.418      0.000       0.098       0.158\n",
       "x2            -0.0837      0.012     -6.742      0.000      -0.108      -0.059\n",
       "x3            -0.2497      0.020    -12.703      0.000      -0.288      -0.211\n",
       "x0 x1         -0.0618      0.015     -4.077      0.000      -0.092      -0.032\n",
       "x0 x2         -0.0009      0.012     -0.075      0.940      -0.024       0.022\n",
       "x0 x3         -0.1213      0.014     -8.607      0.000      -0.149      -0.094\n",
       "x1 x2         -0.0492      0.013     -3.887      0.000      -0.074      -0.024\n",
       "x1 x3         -0.0845      0.012     -6.902      0.000      -0.109      -0.060\n",
       "x2 x3         -0.0936      0.016     -5.689      0.000      -0.126      -0.061\n",
       "==============================================================================\n",
       "Omnibus:                       54.748   Durbin-Watson:                   1.119\n",
       "Prob(Omnibus):                  0.000   Jarque-Bera (JB):              209.528\n",
       "Skew:                           0.407   Prob(JB):                     3.17e-46\n",
       "Kurtosis:                       6.046   Cond. No.                         5.71\n",
       "==============================================================================\n",
       "\n",
       "Warnings:\n",
       "[1] Standard Errors assume that the covariance matrix of the errors is correctly specified.\n",
       "\"\"\""
      ]
     },
     "execution_count": 124,
     "metadata": {},
     "output_type": "execute_result"
    }
   ],
   "source": [
    "inpc = sm.add_constant(inp_inter)\n",
    "ols = sm.OLS(box_out,inpc)\n",
    "ols_mod = ols.fit()\n",
    "ols_mod.summary()"
   ]
  },
  {
   "cell_type": "code",
   "execution_count": 125,
   "metadata": {},
   "outputs": [
    {
     "data": {
      "text/plain": [
       "LinearRegression()"
      ]
     },
     "execution_count": 125,
     "metadata": {},
     "output_type": "execute_result"
    }
   ],
   "source": [
    "lr = LinearRegression()\n",
    "lr.fit(inpc,box_out)"
   ]
  },
  {
   "cell_type": "code",
   "execution_count": 129,
   "metadata": {},
   "outputs": [
    {
     "data": {
      "text/plain": [
       "0.8127898404917946"
      ]
     },
     "execution_count": 129,
     "metadata": {},
     "output_type": "execute_result"
    }
   ],
   "source": [
    "lr.score(inpc,box_out)"
   ]
  },
  {
   "cell_type": "code",
   "execution_count": null,
   "metadata": {},
   "outputs": [],
   "source": []
  }
 ],
 "metadata": {
  "kernelspec": {
   "display_name": "Python 3",
   "language": "python",
   "name": "python3"
  },
  "language_info": {
   "codemirror_mode": {
    "name": "ipython",
    "version": 3
   },
   "file_extension": ".py",
   "mimetype": "text/x-python",
   "name": "python",
   "nbconvert_exporter": "python",
   "pygments_lexer": "ipython3",
   "version": "3.8.3"
  }
 },
 "nbformat": 4,
 "nbformat_minor": 4
}
